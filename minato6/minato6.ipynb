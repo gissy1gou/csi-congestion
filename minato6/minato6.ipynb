{
 "cells": [
  {
   "cell_type": "code",
   "execution_count": 14,
   "metadata": {
    "scrolled": true
   },
   "outputs": [],
   "source": [
    "import numpy as np\n",
    "import pandas as pd\n",
    "import datetime\n",
    "import codecs"
   ]
  },
  {
   "cell_type": "code",
   "execution_count": 2,
   "metadata": {},
   "outputs": [
    {
     "name": "stderr",
     "output_type": "stream",
     "text": [
      "b'Skipping line 55443: expected 27 fields, saw 52\\n'\n",
      "b'Skipping line 238418: expected 27 fields, saw 54\\nSkipping line 245263: expected 27 fields, saw 52\\n'\n",
      "b'Skipping line 262727: expected 27 fields, saw 47\\nSkipping line 266444: expected 27 fields, saw 52\\nSkipping line 266464: expected 27 fields, saw 52\\nSkipping line 266523: expected 27 fields, saw 52\\nSkipping line 268624: expected 27 fields, saw 52\\nSkipping line 271180: expected 27 fields, saw 52\\n'\n",
      "/usr/local/lib/python3.6/dist-packages/IPython/core/interactiveshell.py:3263: DtypeWarning: Columns (4,23) have mixed types.Specify dtype option on import or set low_memory=False.\n",
      "  if (await self.run_code(code, result,  async_=asy)):\n",
      "b'Skipping line 27145: expected 27 fields, saw 52\\n'\n",
      "b'Skipping line 332679: expected 27 fields, saw 52\\n'\n",
      "/usr/local/lib/python3.6/dist-packages/IPython/core/interactiveshell.py:3072: DtypeWarning: Columns (7) have mixed types.Specify dtype option on import or set low_memory=False.\n",
      "  interactivity=interactivity, compiler=compiler, result=result)\n"
     ]
    }
   ],
   "source": [
    "with codecs.open(\"minato6-ap-my-experiment-file.csv\", \"r\", \"Shift-JIS\", \"ignore\") as file:\n",
    "    minato6ap = pd.read_table(file, delimiter=\",\", error_bad_lines=False)\n",
    "minato6ap = minato6ap.dropna()\n",
    "minato6ap['datetime_timestamp'] = list(map(datetime.datetime.fromtimestamp, minato6ap.timestamp))\n",
    "\n",
    "minato6mp = pd.read_csv('minato6-mp-my-experiment-file.csv', error_bad_lines=False)\n",
    "minato6mp = minato6mp.dropna()\n",
    "minato6mp[\"datetime_timestamp\"] = list(map(datetime.datetime.fromtimestamp, minato6mp.timestamp))"
   ]
  },
  {
   "cell_type": "code",
   "execution_count": 3,
   "metadata": {},
   "outputs": [
    {
     "data": {
      "text/html": [
       "<div>\n",
       "<style scoped>\n",
       "    .dataframe tbody tr th:only-of-type {\n",
       "        vertical-align: middle;\n",
       "    }\n",
       "\n",
       "    .dataframe tbody tr th {\n",
       "        vertical-align: top;\n",
       "    }\n",
       "\n",
       "    .dataframe thead th {\n",
       "        text-align: right;\n",
       "    }\n",
       "</style>\n",
       "<table border=\"1\" class=\"dataframe\">\n",
       "  <thead>\n",
       "    <tr style=\"text-align: right;\">\n",
       "      <th></th>\n",
       "      <th>type</th>\n",
       "      <th>role</th>\n",
       "      <th>mac</th>\n",
       "      <th>rssi</th>\n",
       "      <th>rate</th>\n",
       "      <th>sig_mode</th>\n",
       "      <th>mcs</th>\n",
       "      <th>bandwidth</th>\n",
       "      <th>smoothing</th>\n",
       "      <th>not_sounding</th>\n",
       "      <th>...</th>\n",
       "      <th>local_timestamp</th>\n",
       "      <th>ant</th>\n",
       "      <th>sig_len</th>\n",
       "      <th>rx_state</th>\n",
       "      <th>real_time_set</th>\n",
       "      <th>real_timestamp</th>\n",
       "      <th>len</th>\n",
       "      <th>CSI_DATA</th>\n",
       "      <th>timestamp</th>\n",
       "      <th>datetime_timestamp</th>\n",
       "    </tr>\n",
       "  </thead>\n",
       "  <tbody>\n",
       "    <tr>\n",
       "      <th>0</th>\n",
       "      <td>CSI_DATA</td>\n",
       "      <td>AP</td>\n",
       "      <td>DA:A1:19:B8:FE:4C</td>\n",
       "      <td>-88</td>\n",
       "      <td>11</td>\n",
       "      <td>0.0</td>\n",
       "      <td>0.0</td>\n",
       "      <td>0.0</td>\n",
       "      <td>0.0</td>\n",
       "      <td>0.0</td>\n",
       "      <td>...</td>\n",
       "      <td>362861471.0</td>\n",
       "      <td>0.0</td>\n",
       "      <td>46.0</td>\n",
       "      <td>0.0</td>\n",
       "      <td>0.0</td>\n",
       "      <td>363.972</td>\n",
       "      <td>128.0</td>\n",
       "      <td>[46 -32 2 0 -14 -15 -12 -6 -8 -20 -2 -18 -8 -1...</td>\n",
       "      <td>1.607921e+09</td>\n",
       "      <td>2020-12-14 13:49:46.896088</td>\n",
       "    </tr>\n",
       "    <tr>\n",
       "      <th>1</th>\n",
       "      <td>CSI_DATA</td>\n",
       "      <td>AP</td>\n",
       "      <td>DA:A1:19:F7:24:DD</td>\n",
       "      <td>-85</td>\n",
       "      <td>11</td>\n",
       "      <td>0.0</td>\n",
       "      <td>0.0</td>\n",
       "      <td>0.0</td>\n",
       "      <td>0.0</td>\n",
       "      <td>0.0</td>\n",
       "      <td>...</td>\n",
       "      <td>409033398.0</td>\n",
       "      <td>0.0</td>\n",
       "      <td>46.0</td>\n",
       "      <td>0.0</td>\n",
       "      <td>0.0</td>\n",
       "      <td>409.269</td>\n",
       "      <td>128.0</td>\n",
       "      <td>[46 -32 2 0 19 -30 28 -33 26 -35 28 -30 24 -32...</td>\n",
       "      <td>1.607921e+09</td>\n",
       "      <td>2020-12-14 13:50:33.066136</td>\n",
       "    </tr>\n",
       "    <tr>\n",
       "      <th>2</th>\n",
       "      <td>CSI_DATA</td>\n",
       "      <td>AP</td>\n",
       "      <td>DA:A1:19:AC:71:57</td>\n",
       "      <td>-86</td>\n",
       "      <td>11</td>\n",
       "      <td>0.0</td>\n",
       "      <td>0.0</td>\n",
       "      <td>0.0</td>\n",
       "      <td>0.0</td>\n",
       "      <td>0.0</td>\n",
       "      <td>...</td>\n",
       "      <td>417408625.0</td>\n",
       "      <td>0.0</td>\n",
       "      <td>46.0</td>\n",
       "      <td>0.0</td>\n",
       "      <td>0.0</td>\n",
       "      <td>417.644</td>\n",
       "      <td>128.0</td>\n",
       "      <td>[46 -32 2 0 6 23 2 25 0 23 4 24 0 24 2 17 10 1...</td>\n",
       "      <td>1.607921e+09</td>\n",
       "      <td>2020-12-14 13:50:41.440723</td>\n",
       "    </tr>\n",
       "    <tr>\n",
       "      <th>3</th>\n",
       "      <td>CSI_DATA</td>\n",
       "      <td>AP</td>\n",
       "      <td>DA:A1:19:28:EE:96</td>\n",
       "      <td>-88</td>\n",
       "      <td>11</td>\n",
       "      <td>0.0</td>\n",
       "      <td>0.0</td>\n",
       "      <td>0.0</td>\n",
       "      <td>0.0</td>\n",
       "      <td>0.0</td>\n",
       "      <td>...</td>\n",
       "      <td>440465042.0</td>\n",
       "      <td>0.0</td>\n",
       "      <td>46.0</td>\n",
       "      <td>0.0</td>\n",
       "      <td>0.0</td>\n",
       "      <td>440.701</td>\n",
       "      <td>128.0</td>\n",
       "      <td>[46 -32 2 0 6 -26 3 -26 1 -27 -5 -20 5 -25 1 -...</td>\n",
       "      <td>1.607921e+09</td>\n",
       "      <td>2020-12-14 13:51:04.496528</td>\n",
       "    </tr>\n",
       "    <tr>\n",
       "      <th>4</th>\n",
       "      <td>CSI_DATA</td>\n",
       "      <td>AP</td>\n",
       "      <td>DA:A1:19:0C:74:A5</td>\n",
       "      <td>-80</td>\n",
       "      <td>11</td>\n",
       "      <td>0.0</td>\n",
       "      <td>0.0</td>\n",
       "      <td>0.0</td>\n",
       "      <td>0.0</td>\n",
       "      <td>0.0</td>\n",
       "      <td>...</td>\n",
       "      <td>450067156.0</td>\n",
       "      <td>0.0</td>\n",
       "      <td>46.0</td>\n",
       "      <td>0.0</td>\n",
       "      <td>0.0</td>\n",
       "      <td>450.303</td>\n",
       "      <td>128.0</td>\n",
       "      <td>[46 -32 2 0 1 -11 -2 -13 -2 -15 -7 -13 -8 -17 ...</td>\n",
       "      <td>1.607921e+09</td>\n",
       "      <td>2020-12-14 13:51:14.098921</td>\n",
       "    </tr>\n",
       "  </tbody>\n",
       "</table>\n",
       "<p>5 rows × 28 columns</p>\n",
       "</div>"
      ],
      "text/plain": [
       "       type role                mac  rssi rate  sig_mode  mcs  bandwidth  \\\n",
       "0  CSI_DATA   AP  DA:A1:19:B8:FE:4C   -88   11       0.0  0.0        0.0   \n",
       "1  CSI_DATA   AP  DA:A1:19:F7:24:DD   -85   11       0.0  0.0        0.0   \n",
       "2  CSI_DATA   AP  DA:A1:19:AC:71:57   -86   11       0.0  0.0        0.0   \n",
       "3  CSI_DATA   AP  DA:A1:19:28:EE:96   -88   11       0.0  0.0        0.0   \n",
       "4  CSI_DATA   AP  DA:A1:19:0C:74:A5   -80   11       0.0  0.0        0.0   \n",
       "\n",
       "   smoothing  not_sounding  ...  local_timestamp  ant  sig_len  rx_state  \\\n",
       "0        0.0           0.0  ...      362861471.0  0.0     46.0       0.0   \n",
       "1        0.0           0.0  ...      409033398.0  0.0     46.0       0.0   \n",
       "2        0.0           0.0  ...      417408625.0  0.0     46.0       0.0   \n",
       "3        0.0           0.0  ...      440465042.0  0.0     46.0       0.0   \n",
       "4        0.0           0.0  ...      450067156.0  0.0     46.0       0.0   \n",
       "\n",
       "   real_time_set  real_timestamp    len  \\\n",
       "0            0.0         363.972  128.0   \n",
       "1            0.0         409.269  128.0   \n",
       "2            0.0         417.644  128.0   \n",
       "3            0.0         440.701  128.0   \n",
       "4            0.0         450.303  128.0   \n",
       "\n",
       "                                            CSI_DATA     timestamp  \\\n",
       "0  [46 -32 2 0 -14 -15 -12 -6 -8 -20 -2 -18 -8 -1...  1.607921e+09   \n",
       "1  [46 -32 2 0 19 -30 28 -33 26 -35 28 -30 24 -32...  1.607921e+09   \n",
       "2  [46 -32 2 0 6 23 2 25 0 23 4 24 0 24 2 17 10 1...  1.607921e+09   \n",
       "3  [46 -32 2 0 6 -26 3 -26 1 -27 -5 -20 5 -25 1 -...  1.607921e+09   \n",
       "4  [46 -32 2 0 1 -11 -2 -13 -2 -15 -7 -13 -8 -17 ...  1.607921e+09   \n",
       "\n",
       "          datetime_timestamp  \n",
       "0 2020-12-14 13:49:46.896088  \n",
       "1 2020-12-14 13:50:33.066136  \n",
       "2 2020-12-14 13:50:41.440723  \n",
       "3 2020-12-14 13:51:04.496528  \n",
       "4 2020-12-14 13:51:14.098921  \n",
       "\n",
       "[5 rows x 28 columns]"
      ]
     },
     "execution_count": 3,
     "metadata": {},
     "output_type": "execute_result"
    }
   ],
   "source": [
    "minato6ap.head()"
   ]
  },
  {
   "cell_type": "code",
   "execution_count": 4,
   "metadata": {},
   "outputs": [
    {
     "data": {
      "text/html": [
       "<div>\n",
       "<style scoped>\n",
       "    .dataframe tbody tr th:only-of-type {\n",
       "        vertical-align: middle;\n",
       "    }\n",
       "\n",
       "    .dataframe tbody tr th {\n",
       "        vertical-align: top;\n",
       "    }\n",
       "\n",
       "    .dataframe thead th {\n",
       "        text-align: right;\n",
       "    }\n",
       "</style>\n",
       "<table border=\"1\" class=\"dataframe\">\n",
       "  <thead>\n",
       "    <tr style=\"text-align: right;\">\n",
       "      <th></th>\n",
       "      <th>type</th>\n",
       "      <th>role</th>\n",
       "      <th>mac</th>\n",
       "      <th>rssi</th>\n",
       "      <th>rate</th>\n",
       "      <th>sig_mode</th>\n",
       "      <th>mcs</th>\n",
       "      <th>bandwidth</th>\n",
       "      <th>smoothing</th>\n",
       "      <th>not_sounding</th>\n",
       "      <th>...</th>\n",
       "      <th>local_timestamp</th>\n",
       "      <th>ant</th>\n",
       "      <th>sig_len</th>\n",
       "      <th>rx_state</th>\n",
       "      <th>real_time_set</th>\n",
       "      <th>real_timestamp</th>\n",
       "      <th>len</th>\n",
       "      <th>CSI_DATA</th>\n",
       "      <th>timestamp</th>\n",
       "      <th>datetime_timestamp</th>\n",
       "    </tr>\n",
       "  </thead>\n",
       "  <tbody>\n",
       "    <tr>\n",
       "      <th>273969</th>\n",
       "      <td>CSI_DATA</td>\n",
       "      <td>AP</td>\n",
       "      <td>3C:71:BF:9A:03:E0</td>\n",
       "      <td>-54</td>\n",
       "      <td>11</td>\n",
       "      <td>1.0</td>\n",
       "      <td>1.0</td>\n",
       "      <td>1.0</td>\n",
       "      <td>1.0</td>\n",
       "      <td>1.0</td>\n",
       "      <td>...</td>\n",
       "      <td>955830675.0</td>\n",
       "      <td>0.0</td>\n",
       "      <td>84.0</td>\n",
       "      <td>0.0</td>\n",
       "      <td>0.0</td>\n",
       "      <td>5251.54</td>\n",
       "      <td>384.0</td>\n",
       "      <td>[84 -64 4 0 0 0 0 0 0 0 0 0 20 15 20 15 19 15 ...</td>\n",
       "      <td>1.607926e+09</td>\n",
       "      <td>2020-12-14 15:11:14.832194</td>\n",
       "    </tr>\n",
       "    <tr>\n",
       "      <th>273970</th>\n",
       "      <td>CSI_DATA</td>\n",
       "      <td>AP</td>\n",
       "      <td>3C:71:BF:9A:03:E0</td>\n",
       "      <td>-52</td>\n",
       "      <td>11</td>\n",
       "      <td>0.0</td>\n",
       "      <td>0.0</td>\n",
       "      <td>0.0</td>\n",
       "      <td>0.0</td>\n",
       "      <td>0.0</td>\n",
       "      <td>...</td>\n",
       "      <td>955835589.0</td>\n",
       "      <td>0.0</td>\n",
       "      <td>84.0</td>\n",
       "      <td>0.0</td>\n",
       "      <td>0.0</td>\n",
       "      <td>5251.57</td>\n",
       "      <td>128.0</td>\n",
       "      <td>[84 -64 4 0 0 0 0 0 0 0 0 0 25 11 24 12 24 13 ...</td>\n",
       "      <td>1.607926e+09</td>\n",
       "      <td>2020-12-14 15:11:14.835263</td>\n",
       "    </tr>\n",
       "    <tr>\n",
       "      <th>273971</th>\n",
       "      <td>CSI_DATA</td>\n",
       "      <td>AP</td>\n",
       "      <td>3C:71:BF:9A:03:E0</td>\n",
       "      <td>-54</td>\n",
       "      <td>11</td>\n",
       "      <td>1.0</td>\n",
       "      <td>1.0</td>\n",
       "      <td>1.0</td>\n",
       "      <td>1.0</td>\n",
       "      <td>1.0</td>\n",
       "      <td>...</td>\n",
       "      <td>955836790.0</td>\n",
       "      <td>0.0</td>\n",
       "      <td>84.0</td>\n",
       "      <td>0.0</td>\n",
       "      <td>0.0</td>\n",
       "      <td>5251.61</td>\n",
       "      <td>384.0</td>\n",
       "      <td>[84 -64 4 0 0 0 0 0 0 0 0 0 14 20 13 20 13 19 ...</td>\n",
       "      <td>1.607926e+09</td>\n",
       "      <td>2020-12-14 15:11:14.841395</td>\n",
       "    </tr>\n",
       "    <tr>\n",
       "      <th>273972</th>\n",
       "      <td>CSI_DATA</td>\n",
       "      <td>AP</td>\n",
       "      <td>3C:71:BF:9A:03:E0</td>\n",
       "      <td>-55</td>\n",
       "      <td>11</td>\n",
       "      <td>1.0</td>\n",
       "      <td>1.0</td>\n",
       "      <td>1.0</td>\n",
       "      <td>1.0</td>\n",
       "      <td>1.0</td>\n",
       "      <td>...</td>\n",
       "      <td>955845930.0</td>\n",
       "      <td>0.0</td>\n",
       "      <td>84.0</td>\n",
       "      <td>0.0</td>\n",
       "      <td>0.0</td>\n",
       "      <td>5251.65</td>\n",
       "      <td>384.0</td>\n",
       "      <td>[84 -64 4 0 0 0 0 0 0 0 0 0 22 8 21 9 20 8 20 ...</td>\n",
       "      <td>1.607926e+09</td>\n",
       "      <td>2020-12-14 15:11:14.844131</td>\n",
       "    </tr>\n",
       "    <tr>\n",
       "      <th>273973</th>\n",
       "      <td>CSI_DATA</td>\n",
       "      <td>AP</td>\n",
       "      <td>3C:71:BF:9A:03:E0</td>\n",
       "      <td>-53</td>\n",
       "      <td>11</td>\n",
       "      <td>0.0</td>\n",
       "      <td>0.0</td>\n",
       "      <td>0.0</td>\n",
       "      <td>0.0</td>\n",
       "      <td>0.0</td>\n",
       "      <td>...</td>\n",
       "      <td>955848103.0</td>\n",
       "      <td>0.0</td>\n",
       "      <td>84.0</td>\n",
       "      <td>0.0</td>\n",
       "      <td>0.0</td>\n",
       "      <td>5251.69</td>\n",
       "      <td>128.0</td>\n",
       "      <td>[84 -64 4 0 0 0 0 0 0 0 0 0 -22 19 -23 17 -23 ...</td>\n",
       "      <td>1.607926e+09</td>\n",
       "      <td>2020-12-14 15:12:59.061302</td>\n",
       "    </tr>\n",
       "  </tbody>\n",
       "</table>\n",
       "<p>5 rows × 28 columns</p>\n",
       "</div>"
      ],
      "text/plain": [
       "            type role                mac  rssi rate  sig_mode  mcs  bandwidth  \\\n",
       "273969  CSI_DATA   AP  3C:71:BF:9A:03:E0   -54   11       1.0  1.0        1.0   \n",
       "273970  CSI_DATA   AP  3C:71:BF:9A:03:E0   -52   11       0.0  0.0        0.0   \n",
       "273971  CSI_DATA   AP  3C:71:BF:9A:03:E0   -54   11       1.0  1.0        1.0   \n",
       "273972  CSI_DATA   AP  3C:71:BF:9A:03:E0   -55   11       1.0  1.0        1.0   \n",
       "273973  CSI_DATA   AP  3C:71:BF:9A:03:E0   -53   11       0.0  0.0        0.0   \n",
       "\n",
       "        smoothing  not_sounding  ...  local_timestamp  ant  sig_len  rx_state  \\\n",
       "273969        1.0           1.0  ...      955830675.0  0.0     84.0       0.0   \n",
       "273970        0.0           0.0  ...      955835589.0  0.0     84.0       0.0   \n",
       "273971        1.0           1.0  ...      955836790.0  0.0     84.0       0.0   \n",
       "273972        1.0           1.0  ...      955845930.0  0.0     84.0       0.0   \n",
       "273973        0.0           0.0  ...      955848103.0  0.0     84.0       0.0   \n",
       "\n",
       "        real_time_set  real_timestamp    len  \\\n",
       "273969            0.0         5251.54  384.0   \n",
       "273970            0.0         5251.57  128.0   \n",
       "273971            0.0         5251.61  384.0   \n",
       "273972            0.0         5251.65  384.0   \n",
       "273973            0.0         5251.69  128.0   \n",
       "\n",
       "                                                 CSI_DATA     timestamp  \\\n",
       "273969  [84 -64 4 0 0 0 0 0 0 0 0 0 20 15 20 15 19 15 ...  1.607926e+09   \n",
       "273970  [84 -64 4 0 0 0 0 0 0 0 0 0 25 11 24 12 24 13 ...  1.607926e+09   \n",
       "273971  [84 -64 4 0 0 0 0 0 0 0 0 0 14 20 13 20 13 19 ...  1.607926e+09   \n",
       "273972  [84 -64 4 0 0 0 0 0 0 0 0 0 22 8 21 9 20 8 20 ...  1.607926e+09   \n",
       "273973  [84 -64 4 0 0 0 0 0 0 0 0 0 -22 19 -23 17 -23 ...  1.607926e+09   \n",
       "\n",
       "               datetime_timestamp  \n",
       "273969 2020-12-14 15:11:14.832194  \n",
       "273970 2020-12-14 15:11:14.835263  \n",
       "273971 2020-12-14 15:11:14.841395  \n",
       "273972 2020-12-14 15:11:14.844131  \n",
       "273973 2020-12-14 15:12:59.061302  \n",
       "\n",
       "[5 rows x 28 columns]"
      ]
     },
     "execution_count": 4,
     "metadata": {},
     "output_type": "execute_result"
    }
   ],
   "source": [
    "minato6ap.tail()"
   ]
  },
  {
   "cell_type": "code",
   "execution_count": 5,
   "metadata": {
    "scrolled": true
   },
   "outputs": [
    {
     "data": {
      "text/html": [
       "<div>\n",
       "<style scoped>\n",
       "    .dataframe tbody tr th:only-of-type {\n",
       "        vertical-align: middle;\n",
       "    }\n",
       "\n",
       "    .dataframe tbody tr th {\n",
       "        vertical-align: top;\n",
       "    }\n",
       "\n",
       "    .dataframe thead th {\n",
       "        text-align: right;\n",
       "    }\n",
       "</style>\n",
       "<table border=\"1\" class=\"dataframe\">\n",
       "  <thead>\n",
       "    <tr style=\"text-align: right;\">\n",
       "      <th></th>\n",
       "      <th>type</th>\n",
       "      <th>role</th>\n",
       "      <th>mac</th>\n",
       "      <th>rssi</th>\n",
       "      <th>rate</th>\n",
       "      <th>sig_mode</th>\n",
       "      <th>mcs</th>\n",
       "      <th>bandwidth</th>\n",
       "      <th>smoothing</th>\n",
       "      <th>not_sounding</th>\n",
       "      <th>...</th>\n",
       "      <th>local_timestamp</th>\n",
       "      <th>ant</th>\n",
       "      <th>sig_len</th>\n",
       "      <th>rx_state</th>\n",
       "      <th>real_time_set</th>\n",
       "      <th>real_timestamp</th>\n",
       "      <th>len</th>\n",
       "      <th>CSI_DATA</th>\n",
       "      <th>timestamp</th>\n",
       "      <th>datetime_timestamp</th>\n",
       "    </tr>\n",
       "  </thead>\n",
       "  <tbody>\n",
       "    <tr>\n",
       "      <th>0</th>\n",
       "      <td>CSI_DATA</td>\n",
       "      <td>STA</td>\n",
       "      <td>3C:71:BF:9A:20:D1</td>\n",
       "      <td>-62.0</td>\n",
       "      <td>11.0</td>\n",
       "      <td>0.0</td>\n",
       "      <td>0.0</td>\n",
       "      <td>0</td>\n",
       "      <td>0.0</td>\n",
       "      <td>0.0</td>\n",
       "      <td>...</td>\n",
       "      <td>142868.0</td>\n",
       "      <td>0.0</td>\n",
       "      <td>131.0</td>\n",
       "      <td>0.0</td>\n",
       "      <td>0.0</td>\n",
       "      <td>0.357351</td>\n",
       "      <td>128.0</td>\n",
       "      <td>[-125 48 8 0 0 0 0 0 0 0 0 0 -21 -27 -20 -28 -...</td>\n",
       "      <td>1.607922e+09</td>\n",
       "      <td>2020-12-14 13:53:21.242887</td>\n",
       "    </tr>\n",
       "    <tr>\n",
       "      <th>1</th>\n",
       "      <td>CSI_DATA</td>\n",
       "      <td>STA</td>\n",
       "      <td>3C:71:BF:9A:20:D1</td>\n",
       "      <td>-62.0</td>\n",
       "      <td>11.0</td>\n",
       "      <td>0.0</td>\n",
       "      <td>0.0</td>\n",
       "      <td>0</td>\n",
       "      <td>0.0</td>\n",
       "      <td>0.0</td>\n",
       "      <td>...</td>\n",
       "      <td>143366.0</td>\n",
       "      <td>0.0</td>\n",
       "      <td>131.0</td>\n",
       "      <td>0.0</td>\n",
       "      <td>0.0</td>\n",
       "      <td>0.361420</td>\n",
       "      <td>128.0</td>\n",
       "      <td>[-125 48 8 0 0 0 0 0 0 0 0 0 -11 36 -13 35 -11...</td>\n",
       "      <td>1.607922e+09</td>\n",
       "      <td>2020-12-14 13:53:21.247340</td>\n",
       "    </tr>\n",
       "    <tr>\n",
       "      <th>2</th>\n",
       "      <td>CSI_DATA</td>\n",
       "      <td>STA</td>\n",
       "      <td>3C:71:BF:9A:20:D1</td>\n",
       "      <td>-63.0</td>\n",
       "      <td>11.0</td>\n",
       "      <td>0.0</td>\n",
       "      <td>0.0</td>\n",
       "      <td>0</td>\n",
       "      <td>0.0</td>\n",
       "      <td>0.0</td>\n",
       "      <td>...</td>\n",
       "      <td>1115001.0</td>\n",
       "      <td>0.0</td>\n",
       "      <td>37.0</td>\n",
       "      <td>0.0</td>\n",
       "      <td>0.0</td>\n",
       "      <td>1.329599</td>\n",
       "      <td>128.0</td>\n",
       "      <td>[37 80 2 0 0 0 0 0 0 0 0 0 -16 -14 -18 -15 -13...</td>\n",
       "      <td>1.607922e+09</td>\n",
       "      <td>2020-12-14 13:53:22.215996</td>\n",
       "    </tr>\n",
       "    <tr>\n",
       "      <th>3</th>\n",
       "      <td>CSI_DATA</td>\n",
       "      <td>STA</td>\n",
       "      <td>3C:71:BF:9A:20:D1</td>\n",
       "      <td>-65.0</td>\n",
       "      <td>11.0</td>\n",
       "      <td>0.0</td>\n",
       "      <td>0.0</td>\n",
       "      <td>0</td>\n",
       "      <td>0.0</td>\n",
       "      <td>0.0</td>\n",
       "      <td>...</td>\n",
       "      <td>1136428.0</td>\n",
       "      <td>0.0</td>\n",
       "      <td>37.0</td>\n",
       "      <td>0.0</td>\n",
       "      <td>0.0</td>\n",
       "      <td>1.350757</td>\n",
       "      <td>128.0</td>\n",
       "      <td>[37 80 2 0 0 0 0 0 0 0 0 0 -12 -18 -11 -19 -11...</td>\n",
       "      <td>1.607922e+09</td>\n",
       "      <td>2020-12-14 13:53:22.236645</td>\n",
       "    </tr>\n",
       "    <tr>\n",
       "      <th>4</th>\n",
       "      <td>CSI_DATA</td>\n",
       "      <td>STA</td>\n",
       "      <td>3C:71:BF:9A:20:D1</td>\n",
       "      <td>-71.0</td>\n",
       "      <td>11.0</td>\n",
       "      <td>1.0</td>\n",
       "      <td>3.0</td>\n",
       "      <td>1</td>\n",
       "      <td>1.0</td>\n",
       "      <td>1.0</td>\n",
       "      <td>...</td>\n",
       "      <td>1143347.0</td>\n",
       "      <td>0.0</td>\n",
       "      <td>110.0</td>\n",
       "      <td>0.0</td>\n",
       "      <td>0.0</td>\n",
       "      <td>1.357629</td>\n",
       "      <td>384.0</td>\n",
       "      <td>[110 96 6 0 0 0 0 0 0 0 0 0 -7 12 -7 12 -7 12 ...</td>\n",
       "      <td>1.607922e+09</td>\n",
       "      <td>2020-12-14 13:53:22.242579</td>\n",
       "    </tr>\n",
       "  </tbody>\n",
       "</table>\n",
       "<p>5 rows × 28 columns</p>\n",
       "</div>"
      ],
      "text/plain": [
       "       type role                mac  rssi  rate  sig_mode  mcs bandwidth  \\\n",
       "0  CSI_DATA  STA  3C:71:BF:9A:20:D1 -62.0  11.0       0.0  0.0         0   \n",
       "1  CSI_DATA  STA  3C:71:BF:9A:20:D1 -62.0  11.0       0.0  0.0         0   \n",
       "2  CSI_DATA  STA  3C:71:BF:9A:20:D1 -63.0  11.0       0.0  0.0         0   \n",
       "3  CSI_DATA  STA  3C:71:BF:9A:20:D1 -65.0  11.0       0.0  0.0         0   \n",
       "4  CSI_DATA  STA  3C:71:BF:9A:20:D1 -71.0  11.0       1.0  3.0         1   \n",
       "\n",
       "   smoothing  not_sounding  ...  local_timestamp  ant  sig_len  rx_state  \\\n",
       "0        0.0           0.0  ...         142868.0  0.0    131.0       0.0   \n",
       "1        0.0           0.0  ...         143366.0  0.0    131.0       0.0   \n",
       "2        0.0           0.0  ...        1115001.0  0.0     37.0       0.0   \n",
       "3        0.0           0.0  ...        1136428.0  0.0     37.0       0.0   \n",
       "4        1.0           1.0  ...        1143347.0  0.0    110.0       0.0   \n",
       "\n",
       "   real_time_set  real_timestamp    len  \\\n",
       "0            0.0        0.357351  128.0   \n",
       "1            0.0        0.361420  128.0   \n",
       "2            0.0        1.329599  128.0   \n",
       "3            0.0        1.350757  128.0   \n",
       "4            0.0        1.357629  384.0   \n",
       "\n",
       "                                            CSI_DATA     timestamp  \\\n",
       "0  [-125 48 8 0 0 0 0 0 0 0 0 0 -21 -27 -20 -28 -...  1.607922e+09   \n",
       "1  [-125 48 8 0 0 0 0 0 0 0 0 0 -11 36 -13 35 -11...  1.607922e+09   \n",
       "2  [37 80 2 0 0 0 0 0 0 0 0 0 -16 -14 -18 -15 -13...  1.607922e+09   \n",
       "3  [37 80 2 0 0 0 0 0 0 0 0 0 -12 -18 -11 -19 -11...  1.607922e+09   \n",
       "4  [110 96 6 0 0 0 0 0 0 0 0 0 -7 12 -7 12 -7 12 ...  1.607922e+09   \n",
       "\n",
       "          datetime_timestamp  \n",
       "0 2020-12-14 13:53:21.242887  \n",
       "1 2020-12-14 13:53:21.247340  \n",
       "2 2020-12-14 13:53:22.215996  \n",
       "3 2020-12-14 13:53:22.236645  \n",
       "4 2020-12-14 13:53:22.242579  \n",
       "\n",
       "[5 rows x 28 columns]"
      ]
     },
     "execution_count": 5,
     "metadata": {},
     "output_type": "execute_result"
    }
   ],
   "source": [
    "minato6mp.head()"
   ]
  },
  {
   "cell_type": "code",
   "execution_count": 6,
   "metadata": {
    "scrolled": true
   },
   "outputs": [
    {
     "data": {
      "text/html": [
       "<div>\n",
       "<style scoped>\n",
       "    .dataframe tbody tr th:only-of-type {\n",
       "        vertical-align: middle;\n",
       "    }\n",
       "\n",
       "    .dataframe tbody tr th {\n",
       "        vertical-align: top;\n",
       "    }\n",
       "\n",
       "    .dataframe thead th {\n",
       "        text-align: right;\n",
       "    }\n",
       "</style>\n",
       "<table border=\"1\" class=\"dataframe\">\n",
       "  <thead>\n",
       "    <tr style=\"text-align: right;\">\n",
       "      <th></th>\n",
       "      <th>type</th>\n",
       "      <th>role</th>\n",
       "      <th>mac</th>\n",
       "      <th>rssi</th>\n",
       "      <th>rate</th>\n",
       "      <th>sig_mode</th>\n",
       "      <th>mcs</th>\n",
       "      <th>bandwidth</th>\n",
       "      <th>smoothing</th>\n",
       "      <th>not_sounding</th>\n",
       "      <th>...</th>\n",
       "      <th>local_timestamp</th>\n",
       "      <th>ant</th>\n",
       "      <th>sig_len</th>\n",
       "      <th>rx_state</th>\n",
       "      <th>real_time_set</th>\n",
       "      <th>real_timestamp</th>\n",
       "      <th>len</th>\n",
       "      <th>CSI_DATA</th>\n",
       "      <th>timestamp</th>\n",
       "      <th>datetime_timestamp</th>\n",
       "    </tr>\n",
       "  </thead>\n",
       "  <tbody>\n",
       "    <tr>\n",
       "      <th>358565</th>\n",
       "      <td>CSI_DATA</td>\n",
       "      <td>STA</td>\n",
       "      <td>3C:71:BF:9A:20:D1</td>\n",
       "      <td>-43.0</td>\n",
       "      <td>11.0</td>\n",
       "      <td>1.0</td>\n",
       "      <td>2.0</td>\n",
       "      <td>1</td>\n",
       "      <td>1.0</td>\n",
       "      <td>1.0</td>\n",
       "      <td>...</td>\n",
       "      <td>454170281.0</td>\n",
       "      <td>0.0</td>\n",
       "      <td>110.0</td>\n",
       "      <td>0.0</td>\n",
       "      <td>0.0</td>\n",
       "      <td>4749.355788</td>\n",
       "      <td>384.0</td>\n",
       "      <td>[110 96 6 0 0 0 0 0 0 0 0 0 -16 -7 -16 -7 -16 ...</td>\n",
       "      <td>1.607926e+09</td>\n",
       "      <td>2020-12-14 15:12:30.297810</td>\n",
       "    </tr>\n",
       "    <tr>\n",
       "      <th>358566</th>\n",
       "      <td>CSI_DATA</td>\n",
       "      <td>STA</td>\n",
       "      <td>3C:71:BF:9A:20:D1</td>\n",
       "      <td>-41.0</td>\n",
       "      <td>11.0</td>\n",
       "      <td>1.0</td>\n",
       "      <td>2.0</td>\n",
       "      <td>0</td>\n",
       "      <td>1.0</td>\n",
       "      <td>1.0</td>\n",
       "      <td>...</td>\n",
       "      <td>454187172.0</td>\n",
       "      <td>0.0</td>\n",
       "      <td>110.0</td>\n",
       "      <td>0.0</td>\n",
       "      <td>0.0</td>\n",
       "      <td>4749.368482</td>\n",
       "      <td>256.0</td>\n",
       "      <td>[110 96 6 0 0 0 0 0 0 0 0 0 4 -20 5 -19 4 -20 ...</td>\n",
       "      <td>1.607926e+09</td>\n",
       "      <td>2020-12-14 15:12:30.310260</td>\n",
       "    </tr>\n",
       "    <tr>\n",
       "      <th>358567</th>\n",
       "      <td>CSI_DATA</td>\n",
       "      <td>STA</td>\n",
       "      <td>3C:71:BF:9A:20:D1</td>\n",
       "      <td>-42.0</td>\n",
       "      <td>11.0</td>\n",
       "      <td>1.0</td>\n",
       "      <td>2.0</td>\n",
       "      <td>1</td>\n",
       "      <td>1.0</td>\n",
       "      <td>1.0</td>\n",
       "      <td>...</td>\n",
       "      <td>454192867.0</td>\n",
       "      <td>0.0</td>\n",
       "      <td>110.0</td>\n",
       "      <td>0.0</td>\n",
       "      <td>0.0</td>\n",
       "      <td>4749.374112</td>\n",
       "      <td>384.0</td>\n",
       "      <td>[110 96 6 0 0 0 0 0 0 0 0 0 -1 14 0 14 -1 13 -...</td>\n",
       "      <td>1.607926e+09</td>\n",
       "      <td>2020-12-14 15:12:30.315842</td>\n",
       "    </tr>\n",
       "    <tr>\n",
       "      <th>358568</th>\n",
       "      <td>CSI_DATA</td>\n",
       "      <td>STA</td>\n",
       "      <td>3C:71:BF:9A:20:D1</td>\n",
       "      <td>-42.0</td>\n",
       "      <td>11.0</td>\n",
       "      <td>1.0</td>\n",
       "      <td>2.0</td>\n",
       "      <td>1</td>\n",
       "      <td>1.0</td>\n",
       "      <td>1.0</td>\n",
       "      <td>...</td>\n",
       "      <td>454197350.0</td>\n",
       "      <td>0.0</td>\n",
       "      <td>110.0</td>\n",
       "      <td>0.0</td>\n",
       "      <td>0.0</td>\n",
       "      <td>4749.379222</td>\n",
       "      <td>384.0</td>\n",
       "      <td>[110 96 6 0 0 0 0 0 0 0 0 0 -6 14 -6 13 -6 14 ...</td>\n",
       "      <td>1.607926e+09</td>\n",
       "      <td>2020-12-14 15:12:30.320942</td>\n",
       "    </tr>\n",
       "    <tr>\n",
       "      <th>358569</th>\n",
       "      <td>CSI_DATA</td>\n",
       "      <td>STA</td>\n",
       "      <td>3C:71:BF:9A:20:D1</td>\n",
       "      <td>-41.0</td>\n",
       "      <td>11.0</td>\n",
       "      <td>1.0</td>\n",
       "      <td>2.0</td>\n",
       "      <td>0</td>\n",
       "      <td>1.0</td>\n",
       "      <td>1.0</td>\n",
       "      <td>...</td>\n",
       "      <td>454201169.0</td>\n",
       "      <td>0.0</td>\n",
       "      <td>110.0</td>\n",
       "      <td>0.0</td>\n",
       "      <td>0.0</td>\n",
       "      <td>4749.382987</td>\n",
       "      <td>256.0</td>\n",
       "      <td>[110 96 6 0 0 0 0 0 0 0 0 0 16 -9 17 -8 17 -8 ...</td>\n",
       "      <td>1.607926e+09</td>\n",
       "      <td>2020-12-14 15:12:30.324827</td>\n",
       "    </tr>\n",
       "  </tbody>\n",
       "</table>\n",
       "<p>5 rows × 28 columns</p>\n",
       "</div>"
      ],
      "text/plain": [
       "            type role                mac  rssi  rate  sig_mode  mcs bandwidth  \\\n",
       "358565  CSI_DATA  STA  3C:71:BF:9A:20:D1 -43.0  11.0       1.0  2.0         1   \n",
       "358566  CSI_DATA  STA  3C:71:BF:9A:20:D1 -41.0  11.0       1.0  2.0         0   \n",
       "358567  CSI_DATA  STA  3C:71:BF:9A:20:D1 -42.0  11.0       1.0  2.0         1   \n",
       "358568  CSI_DATA  STA  3C:71:BF:9A:20:D1 -42.0  11.0       1.0  2.0         1   \n",
       "358569  CSI_DATA  STA  3C:71:BF:9A:20:D1 -41.0  11.0       1.0  2.0         0   \n",
       "\n",
       "        smoothing  not_sounding  ...  local_timestamp  ant  sig_len  rx_state  \\\n",
       "358565        1.0           1.0  ...      454170281.0  0.0    110.0       0.0   \n",
       "358566        1.0           1.0  ...      454187172.0  0.0    110.0       0.0   \n",
       "358567        1.0           1.0  ...      454192867.0  0.0    110.0       0.0   \n",
       "358568        1.0           1.0  ...      454197350.0  0.0    110.0       0.0   \n",
       "358569        1.0           1.0  ...      454201169.0  0.0    110.0       0.0   \n",
       "\n",
       "        real_time_set  real_timestamp    len  \\\n",
       "358565            0.0     4749.355788  384.0   \n",
       "358566            0.0     4749.368482  256.0   \n",
       "358567            0.0     4749.374112  384.0   \n",
       "358568            0.0     4749.379222  384.0   \n",
       "358569            0.0     4749.382987  256.0   \n",
       "\n",
       "                                                 CSI_DATA     timestamp  \\\n",
       "358565  [110 96 6 0 0 0 0 0 0 0 0 0 -16 -7 -16 -7 -16 ...  1.607926e+09   \n",
       "358566  [110 96 6 0 0 0 0 0 0 0 0 0 4 -20 5 -19 4 -20 ...  1.607926e+09   \n",
       "358567  [110 96 6 0 0 0 0 0 0 0 0 0 -1 14 0 14 -1 13 -...  1.607926e+09   \n",
       "358568  [110 96 6 0 0 0 0 0 0 0 0 0 -6 14 -6 13 -6 14 ...  1.607926e+09   \n",
       "358569  [110 96 6 0 0 0 0 0 0 0 0 0 16 -9 17 -8 17 -8 ...  1.607926e+09   \n",
       "\n",
       "               datetime_timestamp  \n",
       "358565 2020-12-14 15:12:30.297810  \n",
       "358566 2020-12-14 15:12:30.310260  \n",
       "358567 2020-12-14 15:12:30.315842  \n",
       "358568 2020-12-14 15:12:30.320942  \n",
       "358569 2020-12-14 15:12:30.324827  \n",
       "\n",
       "[5 rows x 28 columns]"
      ]
     },
     "execution_count": 6,
     "metadata": {},
     "output_type": "execute_result"
    }
   ],
   "source": [
    "minato6mp.tail()"
   ]
  },
  {
   "cell_type": "code",
   "execution_count": 7,
   "metadata": {},
   "outputs": [
    {
     "data": {
      "text/plain": [
       "273972"
      ]
     },
     "execution_count": 7,
     "metadata": {},
     "output_type": "execute_result"
    }
   ],
   "source": [
    "len(minato6ap)"
   ]
  },
  {
   "cell_type": "code",
   "execution_count": 8,
   "metadata": {},
   "outputs": [
    {
     "data": {
      "text/plain": [
       "358567"
      ]
     },
     "execution_count": 8,
     "metadata": {},
     "output_type": "execute_result"
    }
   ],
   "source": [
    "len(minato6mp)"
   ]
  },
  {
   "cell_type": "markdown",
   "metadata": {},
   "source": [
    "13:56 22933 \n",
    "13:57 27048\n",
    "13:59 39203\n",
    "\n",
    "14:00 45479\n",
    "47682\n",
    "49889\n",
    "14:01  52383\n",
    "53730\n",
    "55192\n",
    "56851\n",
    "14:03 65382\n",
    "16:08 87389\n",
    "１４：４５　２００９２２\n",
    "１４：５０　230637\n",
    "14:55 260027\n",
    "15:00 281502\n",
    "15:02 290055\n",
    "15:03 293543\n",
    "15:04 302905\n",
    "15:09 337340"
   ]
  },
  {
   "cell_type": "markdown",
   "metadata": {},
   "source": [
    "14:02 16人\n",
    "14:07 23人\n",
    "14:10 23人\n",
    "14:15 28人\n",
    "14:20 29人 \n",
    "14:25 24人\n",
    "14:30 19 人\n",
    "14:35 18人\n",
    "14:40 17人\n",
    "14'45 21人\n",
    "14:50 20人\n",
    "14:55 29人\n",
    "15:00 27人\n",
    "\n",
    "\n",
    "\n"
   ]
  },
  {
   "cell_type": "markdown",
   "metadata": {},
   "source": [
    "15:01 - 上に持っていく\n",
    "15:05 22 人\n",
    "15:10 20人\n",
    "\n",
    "終了"
   ]
  },
  {
   "cell_type": "code",
   "execution_count": 9,
   "metadata": {},
   "outputs": [
    {
     "data": {
      "text/plain": [
       "Index(['type', 'role', 'mac', 'rssi', 'rate', 'sig_mode', 'mcs', 'bandwidth',\n",
       "       'smoothing', 'not_sounding', 'aggregation', 'stbc', 'fec_coding', 'sgi',\n",
       "       'noise_floor', 'ampdu_cnt', 'channel', 'secondary_channel',\n",
       "       'local_timestamp', 'ant', 'sig_len', 'rx_state', 'real_time_set',\n",
       "       'real_timestamp', 'len', 'CSI_DATA', 'timestamp', 'datetime_timestamp'],\n",
       "      dtype='object')"
      ]
     },
     "execution_count": 9,
     "metadata": {},
     "output_type": "execute_result"
    }
   ],
   "source": [
    "minato6ap.columns"
   ]
  },
  {
   "cell_type": "code",
   "execution_count": 12,
   "metadata": {},
   "outputs": [],
   "source": [
    "ap = minato6ap[['datetime_timestamp','CSI_DATA','len']]\n",
    "mp = minato6mp[['datetime_timestamp','CSI_DATA','len']]\n",
    "ap_timestamp = ap['datetime_timestamp'].to_numpy()\n",
    "mp_timestamp = mp['datetime_timestamp'].to_numpy()"
   ]
  },
  {
   "cell_type": "code",
   "execution_count": 20,
   "metadata": {},
   "outputs": [],
   "source": [
    "idx = np.searchsorted(ap_timestamp, mp_timestamp) - 1\n",
    "mask = idx >= 0\n",
    "\n",
    "df = pd.DataFrame({\"ap_timestamp\":ap_timestamp[idx][mask], \"mp_timestamp\":mp_timestamp[mask]})"
   ]
  },
  {
   "cell_type": "code",
   "execution_count": 18,
   "metadata": {
    "scrolled": true
   },
   "outputs": [],
   "source": [
    "#idx = np.searchsorted(mp_timestamp, ap_timestamp)\n",
    "#mask = idx >= 0\n",
    "\n",
    "#df = pd.DataFrame({\"mp_timestamp\":mp_timestamp[idx], \"ap_timestamp\":ap_timestamp})"
   ]
  },
  {
   "cell_type": "code",
   "execution_count": 19,
   "metadata": {},
   "outputs": [
    {
     "ename": "IndexError",
     "evalue": "index 358567 is out of bounds for axis 0 with size 358567",
     "output_type": "error",
     "traceback": [
      "\u001b[0;31m\u001b[0m",
      "\u001b[0;31mIndexError\u001b[0mTraceback (most recent call last)",
      "\u001b[0;32m<ipython-input-19-9aaef5e37679>\u001b[0m in \u001b[0;36m<module>\u001b[0;34m\u001b[0m\n\u001b[0;32m----> 1\u001b[0;31m \u001b[0mdf\u001b[0m \u001b[0;34m=\u001b[0m \u001b[0mpd\u001b[0m\u001b[0;34m.\u001b[0m\u001b[0mDataFrame\u001b[0m\u001b[0;34m(\u001b[0m\u001b[0;34m{\u001b[0m\u001b[0;34m\"mp_timestamp\"\u001b[0m\u001b[0;34m:\u001b[0m\u001b[0mmp_timestamp\u001b[0m\u001b[0;34m[\u001b[0m\u001b[0midx\u001b[0m\u001b[0;34m]\u001b[0m\u001b[0;34m,\u001b[0m \u001b[0;34m\"ap_timestamp\"\u001b[0m\u001b[0;34m:\u001b[0m\u001b[0map_timestamp\u001b[0m\u001b[0;34m}\u001b[0m\u001b[0;34m)\u001b[0m\u001b[0;34m\u001b[0m\u001b[0;34m\u001b[0m\u001b[0m\n\u001b[0m",
      "\u001b[0;31mIndexError\u001b[0m: index 358567 is out of bounds for axis 0 with size 358567"
     ]
    }
   ],
   "source": [
    "#df = pd.DataFrame({\"mp_timestamp\":mp_timestamp[idx], \"ap_timestamp\":ap_timestamp})"
   ]
  },
  {
   "cell_type": "code",
   "execution_count": 21,
   "metadata": {},
   "outputs": [
    {
     "data": {
      "text/html": [
       "<div>\n",
       "<style scoped>\n",
       "    .dataframe tbody tr th:only-of-type {\n",
       "        vertical-align: middle;\n",
       "    }\n",
       "\n",
       "    .dataframe tbody tr th {\n",
       "        vertical-align: top;\n",
       "    }\n",
       "\n",
       "    .dataframe thead th {\n",
       "        text-align: right;\n",
       "    }\n",
       "</style>\n",
       "<table border=\"1\" class=\"dataframe\">\n",
       "  <thead>\n",
       "    <tr style=\"text-align: right;\">\n",
       "      <th></th>\n",
       "      <th>ap_timestamp</th>\n",
       "      <th>mp_timestamp</th>\n",
       "    </tr>\n",
       "  </thead>\n",
       "  <tbody>\n",
       "    <tr>\n",
       "      <th>0</th>\n",
       "      <td>2020-12-14 13:53:20.216931</td>\n",
       "      <td>2020-12-14 13:53:21.242887</td>\n",
       "    </tr>\n",
       "    <tr>\n",
       "      <th>1</th>\n",
       "      <td>2020-12-14 13:53:20.216931</td>\n",
       "      <td>2020-12-14 13:53:21.247340</td>\n",
       "    </tr>\n",
       "    <tr>\n",
       "      <th>2</th>\n",
       "      <td>2020-12-14 13:53:20.216931</td>\n",
       "      <td>2020-12-14 13:53:22.215996</td>\n",
       "    </tr>\n",
       "    <tr>\n",
       "      <th>3</th>\n",
       "      <td>2020-12-14 13:53:20.216931</td>\n",
       "      <td>2020-12-14 13:53:22.236645</td>\n",
       "    </tr>\n",
       "    <tr>\n",
       "      <th>4</th>\n",
       "      <td>2020-12-14 13:53:20.216931</td>\n",
       "      <td>2020-12-14 13:53:22.242579</td>\n",
       "    </tr>\n",
       "  </tbody>\n",
       "</table>\n",
       "</div>"
      ],
      "text/plain": [
       "                ap_timestamp               mp_timestamp\n",
       "0 2020-12-14 13:53:20.216931 2020-12-14 13:53:21.242887\n",
       "1 2020-12-14 13:53:20.216931 2020-12-14 13:53:21.247340\n",
       "2 2020-12-14 13:53:20.216931 2020-12-14 13:53:22.215996\n",
       "3 2020-12-14 13:53:20.216931 2020-12-14 13:53:22.236645\n",
       "4 2020-12-14 13:53:20.216931 2020-12-14 13:53:22.242579"
      ]
     },
     "execution_count": 21,
     "metadata": {},
     "output_type": "execute_result"
    }
   ],
   "source": [
    "df.head()"
   ]
  },
  {
   "cell_type": "code",
   "execution_count": 22,
   "metadata": {
    "scrolled": true
   },
   "outputs": [
    {
     "data": {
      "text/html": [
       "<div>\n",
       "<style scoped>\n",
       "    .dataframe tbody tr th:only-of-type {\n",
       "        vertical-align: middle;\n",
       "    }\n",
       "\n",
       "    .dataframe tbody tr th {\n",
       "        vertical-align: top;\n",
       "    }\n",
       "\n",
       "    .dataframe thead th {\n",
       "        text-align: right;\n",
       "    }\n",
       "</style>\n",
       "<table border=\"1\" class=\"dataframe\">\n",
       "  <thead>\n",
       "    <tr style=\"text-align: right;\">\n",
       "      <th></th>\n",
       "      <th>ap_timestamp</th>\n",
       "      <th>mp_timestamp</th>\n",
       "    </tr>\n",
       "  </thead>\n",
       "  <tbody>\n",
       "    <tr>\n",
       "      <th>358562</th>\n",
       "      <td>2020-12-14 15:11:14.844131</td>\n",
       "      <td>2020-12-14 15:12:30.297810</td>\n",
       "    </tr>\n",
       "    <tr>\n",
       "      <th>358563</th>\n",
       "      <td>2020-12-14 15:11:14.844131</td>\n",
       "      <td>2020-12-14 15:12:30.310260</td>\n",
       "    </tr>\n",
       "    <tr>\n",
       "      <th>358564</th>\n",
       "      <td>2020-12-14 15:11:14.844131</td>\n",
       "      <td>2020-12-14 15:12:30.315842</td>\n",
       "    </tr>\n",
       "    <tr>\n",
       "      <th>358565</th>\n",
       "      <td>2020-12-14 15:11:14.844131</td>\n",
       "      <td>2020-12-14 15:12:30.320942</td>\n",
       "    </tr>\n",
       "    <tr>\n",
       "      <th>358566</th>\n",
       "      <td>2020-12-14 15:11:14.844131</td>\n",
       "      <td>2020-12-14 15:12:30.324827</td>\n",
       "    </tr>\n",
       "  </tbody>\n",
       "</table>\n",
       "</div>"
      ],
      "text/plain": [
       "                     ap_timestamp               mp_timestamp\n",
       "358562 2020-12-14 15:11:14.844131 2020-12-14 15:12:30.297810\n",
       "358563 2020-12-14 15:11:14.844131 2020-12-14 15:12:30.310260\n",
       "358564 2020-12-14 15:11:14.844131 2020-12-14 15:12:30.315842\n",
       "358565 2020-12-14 15:11:14.844131 2020-12-14 15:12:30.320942\n",
       "358566 2020-12-14 15:11:14.844131 2020-12-14 15:12:30.324827"
      ]
     },
     "execution_count": 22,
     "metadata": {},
     "output_type": "execute_result"
    }
   ],
   "source": [
    "df.tail()"
   ]
  },
  {
   "cell_type": "markdown",
   "metadata": {},
   "source": [
    "timestampが14:02 - 15:10 のもの以外は消す\n",
    "15:00 - 15:10 のものは分ける。"
   ]
  },
  {
   "cell_type": "code",
   "execution_count": 23,
   "metadata": {},
   "outputs": [
    {
     "data": {
      "text/html": [
       "<div>\n",
       "<style scoped>\n",
       "    .dataframe tbody tr th:only-of-type {\n",
       "        vertical-align: middle;\n",
       "    }\n",
       "\n",
       "    .dataframe tbody tr th {\n",
       "        vertical-align: top;\n",
       "    }\n",
       "\n",
       "    .dataframe thead th {\n",
       "        text-align: right;\n",
       "    }\n",
       "</style>\n",
       "<table border=\"1\" class=\"dataframe\">\n",
       "  <thead>\n",
       "    <tr style=\"text-align: right;\">\n",
       "      <th></th>\n",
       "      <th>ap_timestamp</th>\n",
       "      <th>mp_timestamp</th>\n",
       "    </tr>\n",
       "  </thead>\n",
       "  <tbody>\n",
       "    <tr>\n",
       "      <th>0</th>\n",
       "      <td>2020-12-14 13:53:20.216931</td>\n",
       "      <td>2020-12-14 13:53:21.242887</td>\n",
       "    </tr>\n",
       "    <tr>\n",
       "      <th>1</th>\n",
       "      <td>2020-12-14 13:53:20.216931</td>\n",
       "      <td>2020-12-14 13:53:21.247340</td>\n",
       "    </tr>\n",
       "    <tr>\n",
       "      <th>2</th>\n",
       "      <td>2020-12-14 13:53:20.216931</td>\n",
       "      <td>2020-12-14 13:53:22.215996</td>\n",
       "    </tr>\n",
       "    <tr>\n",
       "      <th>3</th>\n",
       "      <td>2020-12-14 13:53:20.216931</td>\n",
       "      <td>2020-12-14 13:53:22.236645</td>\n",
       "    </tr>\n",
       "    <tr>\n",
       "      <th>4</th>\n",
       "      <td>2020-12-14 13:53:20.216931</td>\n",
       "      <td>2020-12-14 13:53:22.242579</td>\n",
       "    </tr>\n",
       "    <tr>\n",
       "      <th>...</th>\n",
       "      <td>...</td>\n",
       "      <td>...</td>\n",
       "    </tr>\n",
       "    <tr>\n",
       "      <th>358562</th>\n",
       "      <td>2020-12-14 15:11:14.844131</td>\n",
       "      <td>2020-12-14 15:12:30.297810</td>\n",
       "    </tr>\n",
       "    <tr>\n",
       "      <th>358563</th>\n",
       "      <td>2020-12-14 15:11:14.844131</td>\n",
       "      <td>2020-12-14 15:12:30.310260</td>\n",
       "    </tr>\n",
       "    <tr>\n",
       "      <th>358564</th>\n",
       "      <td>2020-12-14 15:11:14.844131</td>\n",
       "      <td>2020-12-14 15:12:30.315842</td>\n",
       "    </tr>\n",
       "    <tr>\n",
       "      <th>358565</th>\n",
       "      <td>2020-12-14 15:11:14.844131</td>\n",
       "      <td>2020-12-14 15:12:30.320942</td>\n",
       "    </tr>\n",
       "    <tr>\n",
       "      <th>358566</th>\n",
       "      <td>2020-12-14 15:11:14.844131</td>\n",
       "      <td>2020-12-14 15:12:30.324827</td>\n",
       "    </tr>\n",
       "  </tbody>\n",
       "</table>\n",
       "<p>358567 rows × 2 columns</p>\n",
       "</div>"
      ],
      "text/plain": [
       "                     ap_timestamp               mp_timestamp\n",
       "0      2020-12-14 13:53:20.216931 2020-12-14 13:53:21.242887\n",
       "1      2020-12-14 13:53:20.216931 2020-12-14 13:53:21.247340\n",
       "2      2020-12-14 13:53:20.216931 2020-12-14 13:53:22.215996\n",
       "3      2020-12-14 13:53:20.216931 2020-12-14 13:53:22.236645\n",
       "4      2020-12-14 13:53:20.216931 2020-12-14 13:53:22.242579\n",
       "...                           ...                        ...\n",
       "358562 2020-12-14 15:11:14.844131 2020-12-14 15:12:30.297810\n",
       "358563 2020-12-14 15:11:14.844131 2020-12-14 15:12:30.310260\n",
       "358564 2020-12-14 15:11:14.844131 2020-12-14 15:12:30.315842\n",
       "358565 2020-12-14 15:11:14.844131 2020-12-14 15:12:30.320942\n",
       "358566 2020-12-14 15:11:14.844131 2020-12-14 15:12:30.324827\n",
       "\n",
       "[358567 rows x 2 columns]"
      ]
     },
     "execution_count": 23,
     "metadata": {},
     "output_type": "execute_result"
    }
   ],
   "source": [
    "df"
   ]
  },
  {
   "cell_type": "code",
   "execution_count": 24,
   "metadata": {},
   "outputs": [],
   "source": [
    "ap.columns = ['ap_timestamp', 'CSI_ap','len_ap']\n",
    "mp.columns = ['mp_timestamp', 'CSI_mp','len_mp']"
   ]
  },
  {
   "cell_type": "code",
   "execution_count": 25,
   "metadata": {},
   "outputs": [],
   "source": [
    "join_data_1 = pd.merge(df, ap, on='ap_timestamp', how='left')"
   ]
  },
  {
   "cell_type": "code",
   "execution_count": 26,
   "metadata": {},
   "outputs": [],
   "source": [
    "join_data_2 = pd.merge(join_data_1, mp, on='mp_timestamp', how='left')"
   ]
  },
  {
   "cell_type": "code",
   "execution_count": 27,
   "metadata": {},
   "outputs": [],
   "source": [
    "join_data = join_data_2[['ap_timestamp', 'mp_timestamp', 'CSI_ap','CSI_mp','len_ap','len_mp',]]"
   ]
  },
  {
   "cell_type": "code",
   "execution_count": 28,
   "metadata": {},
   "outputs": [
    {
     "data": {
      "text/plain": [
       "ap_timestamp    False\n",
       "mp_timestamp    False\n",
       "CSI_ap          False\n",
       "CSI_mp          False\n",
       "len_ap          False\n",
       "len_mp          False\n",
       "dtype: bool"
      ]
     },
     "execution_count": 28,
     "metadata": {},
     "output_type": "execute_result"
    }
   ],
   "source": [
    "join_data.isnull().any(axis=0)"
   ]
  },
  {
   "cell_type": "code",
   "execution_count": 29,
   "metadata": {
    "scrolled": false
   },
   "outputs": [
    {
     "data": {
      "text/html": [
       "<div>\n",
       "<style scoped>\n",
       "    .dataframe tbody tr th:only-of-type {\n",
       "        vertical-align: middle;\n",
       "    }\n",
       "\n",
       "    .dataframe tbody tr th {\n",
       "        vertical-align: top;\n",
       "    }\n",
       "\n",
       "    .dataframe thead th {\n",
       "        text-align: right;\n",
       "    }\n",
       "</style>\n",
       "<table border=\"1\" class=\"dataframe\">\n",
       "  <thead>\n",
       "    <tr style=\"text-align: right;\">\n",
       "      <th></th>\n",
       "      <th>ap_timestamp</th>\n",
       "      <th>mp_timestamp</th>\n",
       "      <th>CSI_ap</th>\n",
       "      <th>CSI_mp</th>\n",
       "      <th>len_ap</th>\n",
       "      <th>len_mp</th>\n",
       "    </tr>\n",
       "  </thead>\n",
       "  <tbody>\n",
       "    <tr>\n",
       "      <th>0</th>\n",
       "      <td>2020-12-14 13:53:20.216931</td>\n",
       "      <td>2020-12-14 13:53:21.242887</td>\n",
       "      <td>[46 -32 2 0 -23 6 -21 9 -23 15 -24 16 -26 18 -...</td>\n",
       "      <td>[-125 48 8 0 0 0 0 0 0 0 0 0 -21 -27 -20 -28 -...</td>\n",
       "      <td>128.0</td>\n",
       "      <td>128.0</td>\n",
       "    </tr>\n",
       "    <tr>\n",
       "      <th>1</th>\n",
       "      <td>2020-12-14 13:53:20.216931</td>\n",
       "      <td>2020-12-14 13:53:21.247340</td>\n",
       "      <td>[46 -32 2 0 -23 6 -21 9 -23 15 -24 16 -26 18 -...</td>\n",
       "      <td>[-125 48 8 0 0 0 0 0 0 0 0 0 -11 36 -13 35 -11...</td>\n",
       "      <td>128.0</td>\n",
       "      <td>128.0</td>\n",
       "    </tr>\n",
       "    <tr>\n",
       "      <th>2</th>\n",
       "      <td>2020-12-14 13:53:20.216931</td>\n",
       "      <td>2020-12-14 13:53:22.215996</td>\n",
       "      <td>[46 -32 2 0 -23 6 -21 9 -23 15 -24 16 -26 18 -...</td>\n",
       "      <td>[37 80 2 0 0 0 0 0 0 0 0 0 -16 -14 -18 -15 -13...</td>\n",
       "      <td>128.0</td>\n",
       "      <td>128.0</td>\n",
       "    </tr>\n",
       "    <tr>\n",
       "      <th>3</th>\n",
       "      <td>2020-12-14 13:53:20.216931</td>\n",
       "      <td>2020-12-14 13:53:22.236645</td>\n",
       "      <td>[46 -32 2 0 -23 6 -21 9 -23 15 -24 16 -26 18 -...</td>\n",
       "      <td>[37 80 2 0 0 0 0 0 0 0 0 0 -12 -18 -11 -19 -11...</td>\n",
       "      <td>128.0</td>\n",
       "      <td>128.0</td>\n",
       "    </tr>\n",
       "    <tr>\n",
       "      <th>4</th>\n",
       "      <td>2020-12-14 13:53:20.216931</td>\n",
       "      <td>2020-12-14 13:53:22.242579</td>\n",
       "      <td>[46 -32 2 0 -23 6 -21 9 -23 15 -24 16 -26 18 -...</td>\n",
       "      <td>[110 96 6 0 0 0 0 0 0 0 0 0 -7 12 -7 12 -7 12 ...</td>\n",
       "      <td>128.0</td>\n",
       "      <td>384.0</td>\n",
       "    </tr>\n",
       "    <tr>\n",
       "      <th>...</th>\n",
       "      <td>...</td>\n",
       "      <td>...</td>\n",
       "      <td>...</td>\n",
       "      <td>...</td>\n",
       "      <td>...</td>\n",
       "      <td>...</td>\n",
       "    </tr>\n",
       "    <tr>\n",
       "      <th>358562</th>\n",
       "      <td>2020-12-14 15:11:14.844131</td>\n",
       "      <td>2020-12-14 15:12:30.297810</td>\n",
       "      <td>[84 -64 4 0 0 0 0 0 0 0 0 0 22 8 21 9 20 8 20 ...</td>\n",
       "      <td>[110 96 6 0 0 0 0 0 0 0 0 0 -16 -7 -16 -7 -16 ...</td>\n",
       "      <td>384.0</td>\n",
       "      <td>384.0</td>\n",
       "    </tr>\n",
       "    <tr>\n",
       "      <th>358563</th>\n",
       "      <td>2020-12-14 15:11:14.844131</td>\n",
       "      <td>2020-12-14 15:12:30.310260</td>\n",
       "      <td>[84 -64 4 0 0 0 0 0 0 0 0 0 22 8 21 9 20 8 20 ...</td>\n",
       "      <td>[110 96 6 0 0 0 0 0 0 0 0 0 4 -20 5 -19 4 -20 ...</td>\n",
       "      <td>384.0</td>\n",
       "      <td>256.0</td>\n",
       "    </tr>\n",
       "    <tr>\n",
       "      <th>358564</th>\n",
       "      <td>2020-12-14 15:11:14.844131</td>\n",
       "      <td>2020-12-14 15:12:30.315842</td>\n",
       "      <td>[84 -64 4 0 0 0 0 0 0 0 0 0 22 8 21 9 20 8 20 ...</td>\n",
       "      <td>[110 96 6 0 0 0 0 0 0 0 0 0 -1 14 0 14 -1 13 -...</td>\n",
       "      <td>384.0</td>\n",
       "      <td>384.0</td>\n",
       "    </tr>\n",
       "    <tr>\n",
       "      <th>358565</th>\n",
       "      <td>2020-12-14 15:11:14.844131</td>\n",
       "      <td>2020-12-14 15:12:30.320942</td>\n",
       "      <td>[84 -64 4 0 0 0 0 0 0 0 0 0 22 8 21 9 20 8 20 ...</td>\n",
       "      <td>[110 96 6 0 0 0 0 0 0 0 0 0 -6 14 -6 13 -6 14 ...</td>\n",
       "      <td>384.0</td>\n",
       "      <td>384.0</td>\n",
       "    </tr>\n",
       "    <tr>\n",
       "      <th>358566</th>\n",
       "      <td>2020-12-14 15:11:14.844131</td>\n",
       "      <td>2020-12-14 15:12:30.324827</td>\n",
       "      <td>[84 -64 4 0 0 0 0 0 0 0 0 0 22 8 21 9 20 8 20 ...</td>\n",
       "      <td>[110 96 6 0 0 0 0 0 0 0 0 0 16 -9 17 -8 17 -8 ...</td>\n",
       "      <td>384.0</td>\n",
       "      <td>256.0</td>\n",
       "    </tr>\n",
       "  </tbody>\n",
       "</table>\n",
       "<p>358567 rows × 6 columns</p>\n",
       "</div>"
      ],
      "text/plain": [
       "                     ap_timestamp               mp_timestamp  \\\n",
       "0      2020-12-14 13:53:20.216931 2020-12-14 13:53:21.242887   \n",
       "1      2020-12-14 13:53:20.216931 2020-12-14 13:53:21.247340   \n",
       "2      2020-12-14 13:53:20.216931 2020-12-14 13:53:22.215996   \n",
       "3      2020-12-14 13:53:20.216931 2020-12-14 13:53:22.236645   \n",
       "4      2020-12-14 13:53:20.216931 2020-12-14 13:53:22.242579   \n",
       "...                           ...                        ...   \n",
       "358562 2020-12-14 15:11:14.844131 2020-12-14 15:12:30.297810   \n",
       "358563 2020-12-14 15:11:14.844131 2020-12-14 15:12:30.310260   \n",
       "358564 2020-12-14 15:11:14.844131 2020-12-14 15:12:30.315842   \n",
       "358565 2020-12-14 15:11:14.844131 2020-12-14 15:12:30.320942   \n",
       "358566 2020-12-14 15:11:14.844131 2020-12-14 15:12:30.324827   \n",
       "\n",
       "                                                   CSI_ap  \\\n",
       "0       [46 -32 2 0 -23 6 -21 9 -23 15 -24 16 -26 18 -...   \n",
       "1       [46 -32 2 0 -23 6 -21 9 -23 15 -24 16 -26 18 -...   \n",
       "2       [46 -32 2 0 -23 6 -21 9 -23 15 -24 16 -26 18 -...   \n",
       "3       [46 -32 2 0 -23 6 -21 9 -23 15 -24 16 -26 18 -...   \n",
       "4       [46 -32 2 0 -23 6 -21 9 -23 15 -24 16 -26 18 -...   \n",
       "...                                                   ...   \n",
       "358562  [84 -64 4 0 0 0 0 0 0 0 0 0 22 8 21 9 20 8 20 ...   \n",
       "358563  [84 -64 4 0 0 0 0 0 0 0 0 0 22 8 21 9 20 8 20 ...   \n",
       "358564  [84 -64 4 0 0 0 0 0 0 0 0 0 22 8 21 9 20 8 20 ...   \n",
       "358565  [84 -64 4 0 0 0 0 0 0 0 0 0 22 8 21 9 20 8 20 ...   \n",
       "358566  [84 -64 4 0 0 0 0 0 0 0 0 0 22 8 21 9 20 8 20 ...   \n",
       "\n",
       "                                                   CSI_mp  len_ap  len_mp  \n",
       "0       [-125 48 8 0 0 0 0 0 0 0 0 0 -21 -27 -20 -28 -...   128.0   128.0  \n",
       "1       [-125 48 8 0 0 0 0 0 0 0 0 0 -11 36 -13 35 -11...   128.0   128.0  \n",
       "2       [37 80 2 0 0 0 0 0 0 0 0 0 -16 -14 -18 -15 -13...   128.0   128.0  \n",
       "3       [37 80 2 0 0 0 0 0 0 0 0 0 -12 -18 -11 -19 -11...   128.0   128.0  \n",
       "4       [110 96 6 0 0 0 0 0 0 0 0 0 -7 12 -7 12 -7 12 ...   128.0   384.0  \n",
       "...                                                   ...     ...     ...  \n",
       "358562  [110 96 6 0 0 0 0 0 0 0 0 0 -16 -7 -16 -7 -16 ...   384.0   384.0  \n",
       "358563  [110 96 6 0 0 0 0 0 0 0 0 0 4 -20 5 -19 4 -20 ...   384.0   256.0  \n",
       "358564  [110 96 6 0 0 0 0 0 0 0 0 0 -1 14 0 14 -1 13 -...   384.0   384.0  \n",
       "358565  [110 96 6 0 0 0 0 0 0 0 0 0 -6 14 -6 13 -6 14 ...   384.0   384.0  \n",
       "358566  [110 96 6 0 0 0 0 0 0 0 0 0 16 -9 17 -8 17 -8 ...   384.0   256.0  \n",
       "\n",
       "[358567 rows x 6 columns]"
      ]
     },
     "execution_count": 29,
     "metadata": {},
     "output_type": "execute_result"
    }
   ],
   "source": [
    "join_data"
   ]
  },
  {
   "cell_type": "code",
   "execution_count": 87,
   "metadata": {},
   "outputs": [
    {
     "data": {
      "text/html": [
       "<div>\n",
       "<style scoped>\n",
       "    .dataframe tbody tr th:only-of-type {\n",
       "        vertical-align: middle;\n",
       "    }\n",
       "\n",
       "    .dataframe tbody tr th {\n",
       "        vertical-align: top;\n",
       "    }\n",
       "\n",
       "    .dataframe thead th {\n",
       "        text-align: right;\n",
       "    }\n",
       "</style>\n",
       "<table border=\"1\" class=\"dataframe\">\n",
       "  <thead>\n",
       "    <tr style=\"text-align: right;\">\n",
       "      <th></th>\n",
       "      <th>len_ap</th>\n",
       "      <th>len_mp</th>\n",
       "    </tr>\n",
       "  </thead>\n",
       "  <tbody>\n",
       "    <tr>\n",
       "      <th>count</th>\n",
       "      <td>358567.000000</td>\n",
       "      <td>358567.000000</td>\n",
       "    </tr>\n",
       "    <tr>\n",
       "      <th>mean</th>\n",
       "      <td>328.811430</td>\n",
       "      <td>320.004105</td>\n",
       "    </tr>\n",
       "    <tr>\n",
       "      <th>std</th>\n",
       "      <td>104.458768</td>\n",
       "      <td>107.149546</td>\n",
       "    </tr>\n",
       "    <tr>\n",
       "      <th>min</th>\n",
       "      <td>128.000000</td>\n",
       "      <td>128.000000</td>\n",
       "    </tr>\n",
       "    <tr>\n",
       "      <th>25%</th>\n",
       "      <td>384.000000</td>\n",
       "      <td>256.000000</td>\n",
       "    </tr>\n",
       "    <tr>\n",
       "      <th>50%</th>\n",
       "      <td>384.000000</td>\n",
       "      <td>384.000000</td>\n",
       "    </tr>\n",
       "    <tr>\n",
       "      <th>75%</th>\n",
       "      <td>384.000000</td>\n",
       "      <td>384.000000</td>\n",
       "    </tr>\n",
       "    <tr>\n",
       "      <th>max</th>\n",
       "      <td>384.000000</td>\n",
       "      <td>384.000000</td>\n",
       "    </tr>\n",
       "  </tbody>\n",
       "</table>\n",
       "</div>"
      ],
      "text/plain": [
       "              len_ap         len_mp\n",
       "count  358567.000000  358567.000000\n",
       "mean      328.811430     320.004105\n",
       "std       104.458768     107.149546\n",
       "min       128.000000     128.000000\n",
       "25%       384.000000     256.000000\n",
       "50%       384.000000     384.000000\n",
       "75%       384.000000     384.000000\n",
       "max       384.000000     384.000000"
      ]
     },
     "execution_count": 87,
     "metadata": {},
     "output_type": "execute_result"
    }
   ],
   "source": [
    "join_data.describe()"
   ]
  },
  {
   "cell_type": "code",
   "execution_count": 73,
   "metadata": {
    "scrolled": false
   },
   "outputs": [
    {
     "data": {
      "text/plain": [
       "dtype('O')"
      ]
     },
     "execution_count": 73,
     "metadata": {},
     "output_type": "execute_result"
    }
   ],
   "source": [
    "join_data['CSI_ap'].dtypes"
   ]
  },
  {
   "cell_type": "code",
   "execution_count": 77,
   "metadata": {},
   "outputs": [
    {
     "data": {
      "text/plain": [
       "str"
      ]
     },
     "execution_count": 77,
     "metadata": {},
     "output_type": "execute_result"
    }
   ],
   "source": [
    "type(join_data['CSI_ap'].iloc[0])"
   ]
  },
  {
   "cell_type": "code",
   "execution_count": 79,
   "metadata": {},
   "outputs": [],
   "source": [
    "flg_is_serial = join_data['CSI_ap'].astype('str').str.isdigit()"
   ]
  },
  {
   "cell_type": "code",
   "execution_count": 80,
   "metadata": {},
   "outputs": [
    {
     "data": {
      "text/plain": [
       "0"
      ]
     },
     "execution_count": 80,
     "metadata": {},
     "output_type": "execute_result"
    }
   ],
   "source": [
    "flg_is_serial.sum()"
   ]
  },
  {
   "cell_type": "code",
   "execution_count": 84,
   "metadata": {},
   "outputs": [
    {
     "ename": "ValueError",
     "evalue": "invalid literal for int() with base 10: '[46 -32 2 0 -23 6 -21 9 -23 15 -24 16 -26 18 -21 16 -18 16 -22 12 -19 8 -12 5 -14 2 -11 -1 -9 5 -5 -3 -4 -3 -2 -8 8 -9 2 -15 4 -11 13 -15 6 -10 13 -18 14 -10 18 -15 19 -19 0 0 0 0 0 0 0 0 0 0 0 0 0 0",
     "output_type": "error",
     "traceback": [
      "\u001b[0;31m\u001b[0m",
      "\u001b[0;31mValueError\u001b[0mTraceback (most recent call last)",
      "\u001b[0;32m<ipython-input-84-ab02f1c8c85c>\u001b[0m in \u001b[0;36m<module>\u001b[0;34m\u001b[0m\n\u001b[0;32m----> 1\u001b[0;31m \u001b[0ma\u001b[0m \u001b[0;34m=\u001b[0m \u001b[0mjoin_data\u001b[0m\u001b[0;34m[\u001b[0m\u001b[0;34m'CSI_ap'\u001b[0m\u001b[0;34m]\u001b[0m\u001b[0;34m.\u001b[0m\u001b[0mastype\u001b[0m\u001b[0;34m(\u001b[0m\u001b[0;34m'int'\u001b[0m\u001b[0;34m)\u001b[0m\u001b[0;34m\u001b[0m\u001b[0;34m\u001b[0m\u001b[0m\n\u001b[0m",
      "\u001b[0;32m/usr/local/lib/python3.6/dist-packages/pandas/core/generic.py\u001b[0m in \u001b[0;36mastype\u001b[0;34m(self, dtype, copy, errors)\u001b[0m\n\u001b[1;32m   5544\u001b[0m         \u001b[0;32melse\u001b[0m\u001b[0;34m:\u001b[0m\u001b[0;34m\u001b[0m\u001b[0;34m\u001b[0m\u001b[0m\n\u001b[1;32m   5545\u001b[0m             \u001b[0;31m# else, only a single dtype is given\u001b[0m\u001b[0;34m\u001b[0m\u001b[0;34m\u001b[0m\u001b[0;34m\u001b[0m\u001b[0m\n\u001b[0;32m-> 5546\u001b[0;31m             \u001b[0mnew_data\u001b[0m \u001b[0;34m=\u001b[0m \u001b[0mself\u001b[0m\u001b[0;34m.\u001b[0m\u001b[0m_mgr\u001b[0m\u001b[0;34m.\u001b[0m\u001b[0mastype\u001b[0m\u001b[0;34m(\u001b[0m\u001b[0mdtype\u001b[0m\u001b[0;34m=\u001b[0m\u001b[0mdtype\u001b[0m\u001b[0;34m,\u001b[0m \u001b[0mcopy\u001b[0m\u001b[0;34m=\u001b[0m\u001b[0mcopy\u001b[0m\u001b[0;34m,\u001b[0m \u001b[0merrors\u001b[0m\u001b[0;34m=\u001b[0m\u001b[0merrors\u001b[0m\u001b[0;34m,\u001b[0m\u001b[0;34m)\u001b[0m\u001b[0;34m\u001b[0m\u001b[0;34m\u001b[0m\u001b[0m\n\u001b[0m\u001b[1;32m   5547\u001b[0m             \u001b[0;32mreturn\u001b[0m \u001b[0mself\u001b[0m\u001b[0;34m.\u001b[0m\u001b[0m_constructor\u001b[0m\u001b[0;34m(\u001b[0m\u001b[0mnew_data\u001b[0m\u001b[0;34m)\u001b[0m\u001b[0;34m.\u001b[0m\u001b[0m__finalize__\u001b[0m\u001b[0;34m(\u001b[0m\u001b[0mself\u001b[0m\u001b[0;34m,\u001b[0m \u001b[0mmethod\u001b[0m\u001b[0;34m=\u001b[0m\u001b[0;34m\"astype\"\u001b[0m\u001b[0;34m)\u001b[0m\u001b[0;34m\u001b[0m\u001b[0;34m\u001b[0m\u001b[0m\n\u001b[1;32m   5548\u001b[0m \u001b[0;34m\u001b[0m\u001b[0m\n",
      "\u001b[0;32m/usr/local/lib/python3.6/dist-packages/pandas/core/internals/managers.py\u001b[0m in \u001b[0;36mastype\u001b[0;34m(self, dtype, copy, errors)\u001b[0m\n\u001b[1;32m    593\u001b[0m         \u001b[0mself\u001b[0m\u001b[0;34m,\u001b[0m \u001b[0mdtype\u001b[0m\u001b[0;34m,\u001b[0m \u001b[0mcopy\u001b[0m\u001b[0;34m:\u001b[0m \u001b[0mbool\u001b[0m \u001b[0;34m=\u001b[0m \u001b[0;32mFalse\u001b[0m\u001b[0;34m,\u001b[0m \u001b[0merrors\u001b[0m\u001b[0;34m:\u001b[0m \u001b[0mstr\u001b[0m \u001b[0;34m=\u001b[0m \u001b[0;34m\"raise\"\u001b[0m\u001b[0;34m\u001b[0m\u001b[0;34m\u001b[0m\u001b[0m\n\u001b[1;32m    594\u001b[0m     ) -> \"BlockManager\":\n\u001b[0;32m--> 595\u001b[0;31m         \u001b[0;32mreturn\u001b[0m \u001b[0mself\u001b[0m\u001b[0;34m.\u001b[0m\u001b[0mapply\u001b[0m\u001b[0;34m(\u001b[0m\u001b[0;34m\"astype\"\u001b[0m\u001b[0;34m,\u001b[0m \u001b[0mdtype\u001b[0m\u001b[0;34m=\u001b[0m\u001b[0mdtype\u001b[0m\u001b[0;34m,\u001b[0m \u001b[0mcopy\u001b[0m\u001b[0;34m=\u001b[0m\u001b[0mcopy\u001b[0m\u001b[0;34m,\u001b[0m \u001b[0merrors\u001b[0m\u001b[0;34m=\u001b[0m\u001b[0merrors\u001b[0m\u001b[0;34m)\u001b[0m\u001b[0;34m\u001b[0m\u001b[0;34m\u001b[0m\u001b[0m\n\u001b[0m\u001b[1;32m    596\u001b[0m \u001b[0;34m\u001b[0m\u001b[0m\n\u001b[1;32m    597\u001b[0m     def convert(\n",
      "\u001b[0;32m/usr/local/lib/python3.6/dist-packages/pandas/core/internals/managers.py\u001b[0m in \u001b[0;36mapply\u001b[0;34m(self, f, align_keys, **kwargs)\u001b[0m\n\u001b[1;32m    404\u001b[0m                 \u001b[0mapplied\u001b[0m \u001b[0;34m=\u001b[0m \u001b[0mb\u001b[0m\u001b[0;34m.\u001b[0m\u001b[0mapply\u001b[0m\u001b[0;34m(\u001b[0m\u001b[0mf\u001b[0m\u001b[0;34m,\u001b[0m \u001b[0;34m**\u001b[0m\u001b[0mkwargs\u001b[0m\u001b[0;34m)\u001b[0m\u001b[0;34m\u001b[0m\u001b[0;34m\u001b[0m\u001b[0m\n\u001b[1;32m    405\u001b[0m             \u001b[0;32melse\u001b[0m\u001b[0;34m:\u001b[0m\u001b[0;34m\u001b[0m\u001b[0;34m\u001b[0m\u001b[0m\n\u001b[0;32m--> 406\u001b[0;31m                 \u001b[0mapplied\u001b[0m \u001b[0;34m=\u001b[0m \u001b[0mgetattr\u001b[0m\u001b[0;34m(\u001b[0m\u001b[0mb\u001b[0m\u001b[0;34m,\u001b[0m \u001b[0mf\u001b[0m\u001b[0;34m)\u001b[0m\u001b[0;34m(\u001b[0m\u001b[0;34m**\u001b[0m\u001b[0mkwargs\u001b[0m\u001b[0;34m)\u001b[0m\u001b[0;34m\u001b[0m\u001b[0;34m\u001b[0m\u001b[0m\n\u001b[0m\u001b[1;32m    407\u001b[0m             \u001b[0mresult_blocks\u001b[0m \u001b[0;34m=\u001b[0m \u001b[0m_extend_blocks\u001b[0m\u001b[0;34m(\u001b[0m\u001b[0mapplied\u001b[0m\u001b[0;34m,\u001b[0m \u001b[0mresult_blocks\u001b[0m\u001b[0;34m)\u001b[0m\u001b[0;34m\u001b[0m\u001b[0;34m\u001b[0m\u001b[0m\n\u001b[1;32m    408\u001b[0m \u001b[0;34m\u001b[0m\u001b[0m\n",
      "\u001b[0;32m/usr/local/lib/python3.6/dist-packages/pandas/core/internals/blocks.py\u001b[0m in \u001b[0;36mastype\u001b[0;34m(self, dtype, copy, errors)\u001b[0m\n\u001b[1;32m    593\u001b[0m             \u001b[0mvals1d\u001b[0m \u001b[0;34m=\u001b[0m \u001b[0mvalues\u001b[0m\u001b[0;34m.\u001b[0m\u001b[0mravel\u001b[0m\u001b[0;34m(\u001b[0m\u001b[0;34m)\u001b[0m\u001b[0;34m\u001b[0m\u001b[0;34m\u001b[0m\u001b[0m\n\u001b[1;32m    594\u001b[0m             \u001b[0;32mtry\u001b[0m\u001b[0;34m:\u001b[0m\u001b[0;34m\u001b[0m\u001b[0;34m\u001b[0m\u001b[0m\n\u001b[0;32m--> 595\u001b[0;31m                 \u001b[0mvalues\u001b[0m \u001b[0;34m=\u001b[0m \u001b[0mastype_nansafe\u001b[0m\u001b[0;34m(\u001b[0m\u001b[0mvals1d\u001b[0m\u001b[0;34m,\u001b[0m \u001b[0mdtype\u001b[0m\u001b[0;34m,\u001b[0m \u001b[0mcopy\u001b[0m\u001b[0;34m=\u001b[0m\u001b[0;32mTrue\u001b[0m\u001b[0;34m)\u001b[0m\u001b[0;34m\u001b[0m\u001b[0;34m\u001b[0m\u001b[0m\n\u001b[0m\u001b[1;32m    596\u001b[0m             \u001b[0;32mexcept\u001b[0m \u001b[0;34m(\u001b[0m\u001b[0mValueError\u001b[0m\u001b[0;34m,\u001b[0m \u001b[0mTypeError\u001b[0m\u001b[0;34m)\u001b[0m\u001b[0;34m:\u001b[0m\u001b[0;34m\u001b[0m\u001b[0;34m\u001b[0m\u001b[0m\n\u001b[1;32m    597\u001b[0m                 \u001b[0;31m# e.g. astype_nansafe can fail on object-dtype of strings\u001b[0m\u001b[0;34m\u001b[0m\u001b[0;34m\u001b[0m\u001b[0;34m\u001b[0m\u001b[0m\n",
      "\u001b[0;32m/usr/local/lib/python3.6/dist-packages/pandas/core/dtypes/cast.py\u001b[0m in \u001b[0;36mastype_nansafe\u001b[0;34m(arr, dtype, copy, skipna)\u001b[0m\n\u001b[1;32m    972\u001b[0m         \u001b[0;31m# work around NumPy brokenness, #1987\u001b[0m\u001b[0;34m\u001b[0m\u001b[0;34m\u001b[0m\u001b[0;34m\u001b[0m\u001b[0m\n\u001b[1;32m    973\u001b[0m         \u001b[0;32mif\u001b[0m \u001b[0mnp\u001b[0m\u001b[0;34m.\u001b[0m\u001b[0missubdtype\u001b[0m\u001b[0;34m(\u001b[0m\u001b[0mdtype\u001b[0m\u001b[0;34m.\u001b[0m\u001b[0mtype\u001b[0m\u001b[0;34m,\u001b[0m \u001b[0mnp\u001b[0m\u001b[0;34m.\u001b[0m\u001b[0minteger\u001b[0m\u001b[0;34m)\u001b[0m\u001b[0;34m:\u001b[0m\u001b[0;34m\u001b[0m\u001b[0;34m\u001b[0m\u001b[0m\n\u001b[0;32m--> 974\u001b[0;31m             \u001b[0;32mreturn\u001b[0m \u001b[0mlib\u001b[0m\u001b[0;34m.\u001b[0m\u001b[0mastype_intsafe\u001b[0m\u001b[0;34m(\u001b[0m\u001b[0marr\u001b[0m\u001b[0;34m.\u001b[0m\u001b[0mravel\u001b[0m\u001b[0;34m(\u001b[0m\u001b[0;34m)\u001b[0m\u001b[0;34m,\u001b[0m \u001b[0mdtype\u001b[0m\u001b[0;34m)\u001b[0m\u001b[0;34m.\u001b[0m\u001b[0mreshape\u001b[0m\u001b[0;34m(\u001b[0m\u001b[0marr\u001b[0m\u001b[0;34m.\u001b[0m\u001b[0mshape\u001b[0m\u001b[0;34m)\u001b[0m\u001b[0;34m\u001b[0m\u001b[0;34m\u001b[0m\u001b[0m\n\u001b[0m\u001b[1;32m    975\u001b[0m \u001b[0;34m\u001b[0m\u001b[0m\n\u001b[1;32m    976\u001b[0m         \u001b[0;31m# if we have a datetime/timedelta array of objects\u001b[0m\u001b[0;34m\u001b[0m\u001b[0;34m\u001b[0m\u001b[0;34m\u001b[0m\u001b[0m\n",
      "\u001b[0;32mpandas/_libs/lib.pyx\u001b[0m in \u001b[0;36mpandas._libs.lib.astype_intsafe\u001b[0;34m()\u001b[0m\n",
      "\u001b[0;31mValueError\u001b[0m: invalid literal for int() with base 10: '[46 -32 2 0 -23 6 -21 9 -23 15 -24 16 -26 18 -21 16 -18 16 -22 12 -19 8 -12 5 -14 2 -11 -1 -9 5 -5 -3 -4 -3 -2 -8 8 -9 2 -15 4 -11 13 -15 6 -10 13 -18 14 -10 18 -15 19 -19 0 0 0 0 0 0 0 0 0 0 0 0 0 0"
     ]
    }
   ],
   "source": [
    " a = join_data['CSI_ap'].astype('int')"
   ]
  },
  {
   "cell_type": "code",
   "execution_count": null,
   "metadata": {},
   "outputs": [],
   "source": []
  },
  {
   "cell_type": "code",
   "execution_count": null,
   "metadata": {},
   "outputs": [],
   "source": []
  },
  {
   "cell_type": "code",
   "execution_count": null,
   "metadata": {},
   "outputs": [],
   "source": []
  },
  {
   "cell_type": "code",
   "execution_count": null,
   "metadata": {},
   "outputs": [],
   "source": []
  },
  {
   "cell_type": "code",
   "execution_count": null,
   "metadata": {},
   "outputs": [],
   "source": []
  },
  {
   "cell_type": "code",
   "execution_count": null,
   "metadata": {},
   "outputs": [],
   "source": []
  },
  {
   "cell_type": "code",
   "execution_count": 65,
   "metadata": {
    "scrolled": true
   },
   "outputs": [
    {
     "ename": "ValueError",
     "evalue": "invalid literal for int() with base 10: '[46 -32 2 0 -23 6 -21 9 -23 15 -24 16 -26 18 -21 16 -18 16 -22 12 -19 8 -12 5 -14 2 -11 -1 -9 5 -5 -3 -4 -3 -2 -8 8 -9 2 -15 4 -11 13 -15 6 -10 13 -18 14 -10 18 -15 19 -19 0 0 0 0 0 0 0 0 0 0 0 0 0 0",
     "output_type": "error",
     "traceback": [
      "\u001b[0;31m\u001b[0m",
      "\u001b[0;31mValueError\u001b[0mTraceback (most recent call last)",
      "\u001b[0;32m<ipython-input-65-bee8ef8d3fea>\u001b[0m in \u001b[0;36m<module>\u001b[0;34m\u001b[0m\n\u001b[0;32m----> 1\u001b[0;31m \u001b[0mjoin_data\u001b[0m\u001b[0;34m[\u001b[0m\u001b[0;34m'CSI_ap'\u001b[0m\u001b[0;34m]\u001b[0m\u001b[0;34m.\u001b[0m\u001b[0mastype\u001b[0m\u001b[0;34m(\u001b[0m\u001b[0mstr\u001b[0m\u001b[0;34m)\u001b[0m\u001b[0;34m.\u001b[0m\u001b[0mastype\u001b[0m\u001b[0;34m(\u001b[0m\u001b[0mint\u001b[0m\u001b[0;34m)\u001b[0m\u001b[0;34m\u001b[0m\u001b[0;34m\u001b[0m\u001b[0m\n\u001b[0m",
      "\u001b[0;32m/usr/local/lib/python3.6/dist-packages/pandas/core/generic.py\u001b[0m in \u001b[0;36mastype\u001b[0;34m(self, dtype, copy, errors)\u001b[0m\n\u001b[1;32m   5544\u001b[0m         \u001b[0;32melse\u001b[0m\u001b[0;34m:\u001b[0m\u001b[0;34m\u001b[0m\u001b[0;34m\u001b[0m\u001b[0m\n\u001b[1;32m   5545\u001b[0m             \u001b[0;31m# else, only a single dtype is given\u001b[0m\u001b[0;34m\u001b[0m\u001b[0;34m\u001b[0m\u001b[0;34m\u001b[0m\u001b[0m\n\u001b[0;32m-> 5546\u001b[0;31m             \u001b[0mnew_data\u001b[0m \u001b[0;34m=\u001b[0m \u001b[0mself\u001b[0m\u001b[0;34m.\u001b[0m\u001b[0m_mgr\u001b[0m\u001b[0;34m.\u001b[0m\u001b[0mastype\u001b[0m\u001b[0;34m(\u001b[0m\u001b[0mdtype\u001b[0m\u001b[0;34m=\u001b[0m\u001b[0mdtype\u001b[0m\u001b[0;34m,\u001b[0m \u001b[0mcopy\u001b[0m\u001b[0;34m=\u001b[0m\u001b[0mcopy\u001b[0m\u001b[0;34m,\u001b[0m \u001b[0merrors\u001b[0m\u001b[0;34m=\u001b[0m\u001b[0merrors\u001b[0m\u001b[0;34m,\u001b[0m\u001b[0;34m)\u001b[0m\u001b[0;34m\u001b[0m\u001b[0;34m\u001b[0m\u001b[0m\n\u001b[0m\u001b[1;32m   5547\u001b[0m             \u001b[0;32mreturn\u001b[0m \u001b[0mself\u001b[0m\u001b[0;34m.\u001b[0m\u001b[0m_constructor\u001b[0m\u001b[0;34m(\u001b[0m\u001b[0mnew_data\u001b[0m\u001b[0;34m)\u001b[0m\u001b[0;34m.\u001b[0m\u001b[0m__finalize__\u001b[0m\u001b[0;34m(\u001b[0m\u001b[0mself\u001b[0m\u001b[0;34m,\u001b[0m \u001b[0mmethod\u001b[0m\u001b[0;34m=\u001b[0m\u001b[0;34m\"astype\"\u001b[0m\u001b[0;34m)\u001b[0m\u001b[0;34m\u001b[0m\u001b[0;34m\u001b[0m\u001b[0m\n\u001b[1;32m   5548\u001b[0m \u001b[0;34m\u001b[0m\u001b[0m\n",
      "\u001b[0;32m/usr/local/lib/python3.6/dist-packages/pandas/core/internals/managers.py\u001b[0m in \u001b[0;36mastype\u001b[0;34m(self, dtype, copy, errors)\u001b[0m\n\u001b[1;32m    593\u001b[0m         \u001b[0mself\u001b[0m\u001b[0;34m,\u001b[0m \u001b[0mdtype\u001b[0m\u001b[0;34m,\u001b[0m \u001b[0mcopy\u001b[0m\u001b[0;34m:\u001b[0m \u001b[0mbool\u001b[0m \u001b[0;34m=\u001b[0m \u001b[0;32mFalse\u001b[0m\u001b[0;34m,\u001b[0m \u001b[0merrors\u001b[0m\u001b[0;34m:\u001b[0m \u001b[0mstr\u001b[0m \u001b[0;34m=\u001b[0m \u001b[0;34m\"raise\"\u001b[0m\u001b[0;34m\u001b[0m\u001b[0;34m\u001b[0m\u001b[0m\n\u001b[1;32m    594\u001b[0m     ) -> \"BlockManager\":\n\u001b[0;32m--> 595\u001b[0;31m         \u001b[0;32mreturn\u001b[0m \u001b[0mself\u001b[0m\u001b[0;34m.\u001b[0m\u001b[0mapply\u001b[0m\u001b[0;34m(\u001b[0m\u001b[0;34m\"astype\"\u001b[0m\u001b[0;34m,\u001b[0m \u001b[0mdtype\u001b[0m\u001b[0;34m=\u001b[0m\u001b[0mdtype\u001b[0m\u001b[0;34m,\u001b[0m \u001b[0mcopy\u001b[0m\u001b[0;34m=\u001b[0m\u001b[0mcopy\u001b[0m\u001b[0;34m,\u001b[0m \u001b[0merrors\u001b[0m\u001b[0;34m=\u001b[0m\u001b[0merrors\u001b[0m\u001b[0;34m)\u001b[0m\u001b[0;34m\u001b[0m\u001b[0;34m\u001b[0m\u001b[0m\n\u001b[0m\u001b[1;32m    596\u001b[0m \u001b[0;34m\u001b[0m\u001b[0m\n\u001b[1;32m    597\u001b[0m     def convert(\n",
      "\u001b[0;32m/usr/local/lib/python3.6/dist-packages/pandas/core/internals/managers.py\u001b[0m in \u001b[0;36mapply\u001b[0;34m(self, f, align_keys, **kwargs)\u001b[0m\n\u001b[1;32m    404\u001b[0m                 \u001b[0mapplied\u001b[0m \u001b[0;34m=\u001b[0m \u001b[0mb\u001b[0m\u001b[0;34m.\u001b[0m\u001b[0mapply\u001b[0m\u001b[0;34m(\u001b[0m\u001b[0mf\u001b[0m\u001b[0;34m,\u001b[0m \u001b[0;34m**\u001b[0m\u001b[0mkwargs\u001b[0m\u001b[0;34m)\u001b[0m\u001b[0;34m\u001b[0m\u001b[0;34m\u001b[0m\u001b[0m\n\u001b[1;32m    405\u001b[0m             \u001b[0;32melse\u001b[0m\u001b[0;34m:\u001b[0m\u001b[0;34m\u001b[0m\u001b[0;34m\u001b[0m\u001b[0m\n\u001b[0;32m--> 406\u001b[0;31m                 \u001b[0mapplied\u001b[0m \u001b[0;34m=\u001b[0m \u001b[0mgetattr\u001b[0m\u001b[0;34m(\u001b[0m\u001b[0mb\u001b[0m\u001b[0;34m,\u001b[0m \u001b[0mf\u001b[0m\u001b[0;34m)\u001b[0m\u001b[0;34m(\u001b[0m\u001b[0;34m**\u001b[0m\u001b[0mkwargs\u001b[0m\u001b[0;34m)\u001b[0m\u001b[0;34m\u001b[0m\u001b[0;34m\u001b[0m\u001b[0m\n\u001b[0m\u001b[1;32m    407\u001b[0m             \u001b[0mresult_blocks\u001b[0m \u001b[0;34m=\u001b[0m \u001b[0m_extend_blocks\u001b[0m\u001b[0;34m(\u001b[0m\u001b[0mapplied\u001b[0m\u001b[0;34m,\u001b[0m \u001b[0mresult_blocks\u001b[0m\u001b[0;34m)\u001b[0m\u001b[0;34m\u001b[0m\u001b[0;34m\u001b[0m\u001b[0m\n\u001b[1;32m    408\u001b[0m \u001b[0;34m\u001b[0m\u001b[0m\n",
      "\u001b[0;32m/usr/local/lib/python3.6/dist-packages/pandas/core/internals/blocks.py\u001b[0m in \u001b[0;36mastype\u001b[0;34m(self, dtype, copy, errors)\u001b[0m\n\u001b[1;32m    593\u001b[0m             \u001b[0mvals1d\u001b[0m \u001b[0;34m=\u001b[0m \u001b[0mvalues\u001b[0m\u001b[0;34m.\u001b[0m\u001b[0mravel\u001b[0m\u001b[0;34m(\u001b[0m\u001b[0;34m)\u001b[0m\u001b[0;34m\u001b[0m\u001b[0;34m\u001b[0m\u001b[0m\n\u001b[1;32m    594\u001b[0m             \u001b[0;32mtry\u001b[0m\u001b[0;34m:\u001b[0m\u001b[0;34m\u001b[0m\u001b[0;34m\u001b[0m\u001b[0m\n\u001b[0;32m--> 595\u001b[0;31m                 \u001b[0mvalues\u001b[0m \u001b[0;34m=\u001b[0m \u001b[0mastype_nansafe\u001b[0m\u001b[0;34m(\u001b[0m\u001b[0mvals1d\u001b[0m\u001b[0;34m,\u001b[0m \u001b[0mdtype\u001b[0m\u001b[0;34m,\u001b[0m \u001b[0mcopy\u001b[0m\u001b[0;34m=\u001b[0m\u001b[0;32mTrue\u001b[0m\u001b[0;34m)\u001b[0m\u001b[0;34m\u001b[0m\u001b[0;34m\u001b[0m\u001b[0m\n\u001b[0m\u001b[1;32m    596\u001b[0m             \u001b[0;32mexcept\u001b[0m \u001b[0;34m(\u001b[0m\u001b[0mValueError\u001b[0m\u001b[0;34m,\u001b[0m \u001b[0mTypeError\u001b[0m\u001b[0;34m)\u001b[0m\u001b[0;34m:\u001b[0m\u001b[0;34m\u001b[0m\u001b[0;34m\u001b[0m\u001b[0m\n\u001b[1;32m    597\u001b[0m                 \u001b[0;31m# e.g. astype_nansafe can fail on object-dtype of strings\u001b[0m\u001b[0;34m\u001b[0m\u001b[0;34m\u001b[0m\u001b[0;34m\u001b[0m\u001b[0m\n",
      "\u001b[0;32m/usr/local/lib/python3.6/dist-packages/pandas/core/dtypes/cast.py\u001b[0m in \u001b[0;36mastype_nansafe\u001b[0;34m(arr, dtype, copy, skipna)\u001b[0m\n\u001b[1;32m    972\u001b[0m         \u001b[0;31m# work around NumPy brokenness, #1987\u001b[0m\u001b[0;34m\u001b[0m\u001b[0;34m\u001b[0m\u001b[0;34m\u001b[0m\u001b[0m\n\u001b[1;32m    973\u001b[0m         \u001b[0;32mif\u001b[0m \u001b[0mnp\u001b[0m\u001b[0;34m.\u001b[0m\u001b[0missubdtype\u001b[0m\u001b[0;34m(\u001b[0m\u001b[0mdtype\u001b[0m\u001b[0;34m.\u001b[0m\u001b[0mtype\u001b[0m\u001b[0;34m,\u001b[0m \u001b[0mnp\u001b[0m\u001b[0;34m.\u001b[0m\u001b[0minteger\u001b[0m\u001b[0;34m)\u001b[0m\u001b[0;34m:\u001b[0m\u001b[0;34m\u001b[0m\u001b[0;34m\u001b[0m\u001b[0m\n\u001b[0;32m--> 974\u001b[0;31m             \u001b[0;32mreturn\u001b[0m \u001b[0mlib\u001b[0m\u001b[0;34m.\u001b[0m\u001b[0mastype_intsafe\u001b[0m\u001b[0;34m(\u001b[0m\u001b[0marr\u001b[0m\u001b[0;34m.\u001b[0m\u001b[0mravel\u001b[0m\u001b[0;34m(\u001b[0m\u001b[0;34m)\u001b[0m\u001b[0;34m,\u001b[0m \u001b[0mdtype\u001b[0m\u001b[0;34m)\u001b[0m\u001b[0;34m.\u001b[0m\u001b[0mreshape\u001b[0m\u001b[0;34m(\u001b[0m\u001b[0marr\u001b[0m\u001b[0;34m.\u001b[0m\u001b[0mshape\u001b[0m\u001b[0;34m)\u001b[0m\u001b[0;34m\u001b[0m\u001b[0;34m\u001b[0m\u001b[0m\n\u001b[0m\u001b[1;32m    975\u001b[0m \u001b[0;34m\u001b[0m\u001b[0m\n\u001b[1;32m    976\u001b[0m         \u001b[0;31m# if we have a datetime/timedelta array of objects\u001b[0m\u001b[0;34m\u001b[0m\u001b[0;34m\u001b[0m\u001b[0;34m\u001b[0m\u001b[0m\n",
      "\u001b[0;32mpandas/_libs/lib.pyx\u001b[0m in \u001b[0;36mpandas._libs.lib.astype_intsafe\u001b[0;34m()\u001b[0m\n",
      "\u001b[0;31mValueError\u001b[0m: invalid literal for int() with base 10: '[46 -32 2 0 -23 6 -21 9 -23 15 -24 16 -26 18 -21 16 -18 16 -22 12 -19 8 -12 5 -14 2 -11 -1 -9 5 -5 -3 -4 -3 -2 -8 8 -9 2 -15 4 -11 13 -15 6 -10 13 -18 14 -10 18 -15 19 -19 0 0 0 0 0 0 0 0 0 0 0 0 0 0"
     ]
    }
   ],
   "source": [
    "join_data['CSI_ap'].astype(str).astype(int)"
   ]
  },
  {
   "cell_type": "code",
   "execution_count": 66,
   "metadata": {
    "scrolled": true
   },
   "outputs": [
    {
     "ename": "ValueError",
     "evalue": "invalid literal for int() with base 10: '[46 -32 2 0 -23 6 -21 9 -23 15 -24 16 -26 18 -21 16 -18 16 -22 12 -19 8 -12 5 -14 2 -11 -1 -9 5 -5 -3 -4 -3 -2 -8 8 -9 2 -15 4 -11 13 -15 6 -10 13 -18 14 -10 18 -15 19 -19 0 0 0 0 0 0 0 0 0 0 0 0 0 0",
     "output_type": "error",
     "traceback": [
      "\u001b[0;31m\u001b[0m",
      "\u001b[0;31mValueError\u001b[0mTraceback (most recent call last)",
      "\u001b[0;32m<ipython-input-66-ac775584c2b4>\u001b[0m in \u001b[0;36m<module>\u001b[0;34m\u001b[0m\n\u001b[0;32m----> 1\u001b[0;31m \u001b[0mjoin_data\u001b[0m\u001b[0;34m[\u001b[0m\u001b[0;34m'CSI_ap'\u001b[0m\u001b[0;34m]\u001b[0m\u001b[0;34m.\u001b[0m\u001b[0mastype\u001b[0m\u001b[0;34m(\u001b[0m\u001b[0mint\u001b[0m\u001b[0;34m)\u001b[0m\u001b[0;34m\u001b[0m\u001b[0;34m\u001b[0m\u001b[0m\n\u001b[0m",
      "\u001b[0;32m/usr/local/lib/python3.6/dist-packages/pandas/core/generic.py\u001b[0m in \u001b[0;36mastype\u001b[0;34m(self, dtype, copy, errors)\u001b[0m\n\u001b[1;32m   5544\u001b[0m         \u001b[0;32melse\u001b[0m\u001b[0;34m:\u001b[0m\u001b[0;34m\u001b[0m\u001b[0;34m\u001b[0m\u001b[0m\n\u001b[1;32m   5545\u001b[0m             \u001b[0;31m# else, only a single dtype is given\u001b[0m\u001b[0;34m\u001b[0m\u001b[0;34m\u001b[0m\u001b[0;34m\u001b[0m\u001b[0m\n\u001b[0;32m-> 5546\u001b[0;31m             \u001b[0mnew_data\u001b[0m \u001b[0;34m=\u001b[0m \u001b[0mself\u001b[0m\u001b[0;34m.\u001b[0m\u001b[0m_mgr\u001b[0m\u001b[0;34m.\u001b[0m\u001b[0mastype\u001b[0m\u001b[0;34m(\u001b[0m\u001b[0mdtype\u001b[0m\u001b[0;34m=\u001b[0m\u001b[0mdtype\u001b[0m\u001b[0;34m,\u001b[0m \u001b[0mcopy\u001b[0m\u001b[0;34m=\u001b[0m\u001b[0mcopy\u001b[0m\u001b[0;34m,\u001b[0m \u001b[0merrors\u001b[0m\u001b[0;34m=\u001b[0m\u001b[0merrors\u001b[0m\u001b[0;34m,\u001b[0m\u001b[0;34m)\u001b[0m\u001b[0;34m\u001b[0m\u001b[0;34m\u001b[0m\u001b[0m\n\u001b[0m\u001b[1;32m   5547\u001b[0m             \u001b[0;32mreturn\u001b[0m \u001b[0mself\u001b[0m\u001b[0;34m.\u001b[0m\u001b[0m_constructor\u001b[0m\u001b[0;34m(\u001b[0m\u001b[0mnew_data\u001b[0m\u001b[0;34m)\u001b[0m\u001b[0;34m.\u001b[0m\u001b[0m__finalize__\u001b[0m\u001b[0;34m(\u001b[0m\u001b[0mself\u001b[0m\u001b[0;34m,\u001b[0m \u001b[0mmethod\u001b[0m\u001b[0;34m=\u001b[0m\u001b[0;34m\"astype\"\u001b[0m\u001b[0;34m)\u001b[0m\u001b[0;34m\u001b[0m\u001b[0;34m\u001b[0m\u001b[0m\n\u001b[1;32m   5548\u001b[0m \u001b[0;34m\u001b[0m\u001b[0m\n",
      "\u001b[0;32m/usr/local/lib/python3.6/dist-packages/pandas/core/internals/managers.py\u001b[0m in \u001b[0;36mastype\u001b[0;34m(self, dtype, copy, errors)\u001b[0m\n\u001b[1;32m    593\u001b[0m         \u001b[0mself\u001b[0m\u001b[0;34m,\u001b[0m \u001b[0mdtype\u001b[0m\u001b[0;34m,\u001b[0m \u001b[0mcopy\u001b[0m\u001b[0;34m:\u001b[0m \u001b[0mbool\u001b[0m \u001b[0;34m=\u001b[0m \u001b[0;32mFalse\u001b[0m\u001b[0;34m,\u001b[0m \u001b[0merrors\u001b[0m\u001b[0;34m:\u001b[0m \u001b[0mstr\u001b[0m \u001b[0;34m=\u001b[0m \u001b[0;34m\"raise\"\u001b[0m\u001b[0;34m\u001b[0m\u001b[0;34m\u001b[0m\u001b[0m\n\u001b[1;32m    594\u001b[0m     ) -> \"BlockManager\":\n\u001b[0;32m--> 595\u001b[0;31m         \u001b[0;32mreturn\u001b[0m \u001b[0mself\u001b[0m\u001b[0;34m.\u001b[0m\u001b[0mapply\u001b[0m\u001b[0;34m(\u001b[0m\u001b[0;34m\"astype\"\u001b[0m\u001b[0;34m,\u001b[0m \u001b[0mdtype\u001b[0m\u001b[0;34m=\u001b[0m\u001b[0mdtype\u001b[0m\u001b[0;34m,\u001b[0m \u001b[0mcopy\u001b[0m\u001b[0;34m=\u001b[0m\u001b[0mcopy\u001b[0m\u001b[0;34m,\u001b[0m \u001b[0merrors\u001b[0m\u001b[0;34m=\u001b[0m\u001b[0merrors\u001b[0m\u001b[0;34m)\u001b[0m\u001b[0;34m\u001b[0m\u001b[0;34m\u001b[0m\u001b[0m\n\u001b[0m\u001b[1;32m    596\u001b[0m \u001b[0;34m\u001b[0m\u001b[0m\n\u001b[1;32m    597\u001b[0m     def convert(\n",
      "\u001b[0;32m/usr/local/lib/python3.6/dist-packages/pandas/core/internals/managers.py\u001b[0m in \u001b[0;36mapply\u001b[0;34m(self, f, align_keys, **kwargs)\u001b[0m\n\u001b[1;32m    404\u001b[0m                 \u001b[0mapplied\u001b[0m \u001b[0;34m=\u001b[0m \u001b[0mb\u001b[0m\u001b[0;34m.\u001b[0m\u001b[0mapply\u001b[0m\u001b[0;34m(\u001b[0m\u001b[0mf\u001b[0m\u001b[0;34m,\u001b[0m \u001b[0;34m**\u001b[0m\u001b[0mkwargs\u001b[0m\u001b[0;34m)\u001b[0m\u001b[0;34m\u001b[0m\u001b[0;34m\u001b[0m\u001b[0m\n\u001b[1;32m    405\u001b[0m             \u001b[0;32melse\u001b[0m\u001b[0;34m:\u001b[0m\u001b[0;34m\u001b[0m\u001b[0;34m\u001b[0m\u001b[0m\n\u001b[0;32m--> 406\u001b[0;31m                 \u001b[0mapplied\u001b[0m \u001b[0;34m=\u001b[0m \u001b[0mgetattr\u001b[0m\u001b[0;34m(\u001b[0m\u001b[0mb\u001b[0m\u001b[0;34m,\u001b[0m \u001b[0mf\u001b[0m\u001b[0;34m)\u001b[0m\u001b[0;34m(\u001b[0m\u001b[0;34m**\u001b[0m\u001b[0mkwargs\u001b[0m\u001b[0;34m)\u001b[0m\u001b[0;34m\u001b[0m\u001b[0;34m\u001b[0m\u001b[0m\n\u001b[0m\u001b[1;32m    407\u001b[0m             \u001b[0mresult_blocks\u001b[0m \u001b[0;34m=\u001b[0m \u001b[0m_extend_blocks\u001b[0m\u001b[0;34m(\u001b[0m\u001b[0mapplied\u001b[0m\u001b[0;34m,\u001b[0m \u001b[0mresult_blocks\u001b[0m\u001b[0;34m)\u001b[0m\u001b[0;34m\u001b[0m\u001b[0;34m\u001b[0m\u001b[0m\n\u001b[1;32m    408\u001b[0m \u001b[0;34m\u001b[0m\u001b[0m\n",
      "\u001b[0;32m/usr/local/lib/python3.6/dist-packages/pandas/core/internals/blocks.py\u001b[0m in \u001b[0;36mastype\u001b[0;34m(self, dtype, copy, errors)\u001b[0m\n\u001b[1;32m    593\u001b[0m             \u001b[0mvals1d\u001b[0m \u001b[0;34m=\u001b[0m \u001b[0mvalues\u001b[0m\u001b[0;34m.\u001b[0m\u001b[0mravel\u001b[0m\u001b[0;34m(\u001b[0m\u001b[0;34m)\u001b[0m\u001b[0;34m\u001b[0m\u001b[0;34m\u001b[0m\u001b[0m\n\u001b[1;32m    594\u001b[0m             \u001b[0;32mtry\u001b[0m\u001b[0;34m:\u001b[0m\u001b[0;34m\u001b[0m\u001b[0;34m\u001b[0m\u001b[0m\n\u001b[0;32m--> 595\u001b[0;31m                 \u001b[0mvalues\u001b[0m \u001b[0;34m=\u001b[0m \u001b[0mastype_nansafe\u001b[0m\u001b[0;34m(\u001b[0m\u001b[0mvals1d\u001b[0m\u001b[0;34m,\u001b[0m \u001b[0mdtype\u001b[0m\u001b[0;34m,\u001b[0m \u001b[0mcopy\u001b[0m\u001b[0;34m=\u001b[0m\u001b[0;32mTrue\u001b[0m\u001b[0;34m)\u001b[0m\u001b[0;34m\u001b[0m\u001b[0;34m\u001b[0m\u001b[0m\n\u001b[0m\u001b[1;32m    596\u001b[0m             \u001b[0;32mexcept\u001b[0m \u001b[0;34m(\u001b[0m\u001b[0mValueError\u001b[0m\u001b[0;34m,\u001b[0m \u001b[0mTypeError\u001b[0m\u001b[0;34m)\u001b[0m\u001b[0;34m:\u001b[0m\u001b[0;34m\u001b[0m\u001b[0;34m\u001b[0m\u001b[0m\n\u001b[1;32m    597\u001b[0m                 \u001b[0;31m# e.g. astype_nansafe can fail on object-dtype of strings\u001b[0m\u001b[0;34m\u001b[0m\u001b[0;34m\u001b[0m\u001b[0;34m\u001b[0m\u001b[0m\n",
      "\u001b[0;32m/usr/local/lib/python3.6/dist-packages/pandas/core/dtypes/cast.py\u001b[0m in \u001b[0;36mastype_nansafe\u001b[0;34m(arr, dtype, copy, skipna)\u001b[0m\n\u001b[1;32m    972\u001b[0m         \u001b[0;31m# work around NumPy brokenness, #1987\u001b[0m\u001b[0;34m\u001b[0m\u001b[0;34m\u001b[0m\u001b[0;34m\u001b[0m\u001b[0m\n\u001b[1;32m    973\u001b[0m         \u001b[0;32mif\u001b[0m \u001b[0mnp\u001b[0m\u001b[0;34m.\u001b[0m\u001b[0missubdtype\u001b[0m\u001b[0;34m(\u001b[0m\u001b[0mdtype\u001b[0m\u001b[0;34m.\u001b[0m\u001b[0mtype\u001b[0m\u001b[0;34m,\u001b[0m \u001b[0mnp\u001b[0m\u001b[0;34m.\u001b[0m\u001b[0minteger\u001b[0m\u001b[0;34m)\u001b[0m\u001b[0;34m:\u001b[0m\u001b[0;34m\u001b[0m\u001b[0;34m\u001b[0m\u001b[0m\n\u001b[0;32m--> 974\u001b[0;31m             \u001b[0;32mreturn\u001b[0m \u001b[0mlib\u001b[0m\u001b[0;34m.\u001b[0m\u001b[0mastype_intsafe\u001b[0m\u001b[0;34m(\u001b[0m\u001b[0marr\u001b[0m\u001b[0;34m.\u001b[0m\u001b[0mravel\u001b[0m\u001b[0;34m(\u001b[0m\u001b[0;34m)\u001b[0m\u001b[0;34m,\u001b[0m \u001b[0mdtype\u001b[0m\u001b[0;34m)\u001b[0m\u001b[0;34m.\u001b[0m\u001b[0mreshape\u001b[0m\u001b[0;34m(\u001b[0m\u001b[0marr\u001b[0m\u001b[0;34m.\u001b[0m\u001b[0mshape\u001b[0m\u001b[0;34m)\u001b[0m\u001b[0;34m\u001b[0m\u001b[0;34m\u001b[0m\u001b[0m\n\u001b[0m\u001b[1;32m    975\u001b[0m \u001b[0;34m\u001b[0m\u001b[0m\n\u001b[1;32m    976\u001b[0m         \u001b[0;31m# if we have a datetime/timedelta array of objects\u001b[0m\u001b[0;34m\u001b[0m\u001b[0;34m\u001b[0m\u001b[0;34m\u001b[0m\u001b[0m\n",
      "\u001b[0;32mpandas/_libs/lib.pyx\u001b[0m in \u001b[0;36mpandas._libs.lib.astype_intsafe\u001b[0;34m()\u001b[0m\n",
      "\u001b[0;31mValueError\u001b[0m: invalid literal for int() with base 10: '[46 -32 2 0 -23 6 -21 9 -23 15 -24 16 -26 18 -21 16 -18 16 -22 12 -19 8 -12 5 -14 2 -11 -1 -9 5 -5 -3 -4 -3 -2 -8 8 -9 2 -15 4 -11 13 -15 6 -10 13 -18 14 -10 18 -15 19 -19 0 0 0 0 0 0 0 0 0 0 0 0 0 0"
     ]
    }
   ],
   "source": [
    "join_data['CSI_ap'].astype(int)"
   ]
  },
  {
   "cell_type": "code",
   "execution_count": 68,
   "metadata": {},
   "outputs": [
    {
     "data": {
      "text/plain": [
       "'[46 -32 2 0 -23 6 -21 9 -23 15 -24 16 -26 18 -21 16 -18 16 -22 12 -19 8 -12 5 -14 2 -11 -1 -9 5 -5 -3 -4 -3 -2 -8 8 -9 2 -15 4 -11 13 -15 6 -10 13 -18 14 -10 18 -15 19 -19 0 0 0 0 0 0 0 0 0 0 0 0 0 0 0 0 0 0 0 0 0 0 17 4 4 -1 7 2 20 6 17 2 17 -2 8 2 7 10 4 6 -1 10 -4 6 -12 1 -13 0 -19 -4 -24 -13 -20 -11 -18 -9 -18 -15 -22 -14 -23 -8 -24 -12 -28 -8 -26 -7 -32 -7 -22 -5 -20 -3 ]'"
      ]
     },
     "execution_count": 68,
     "metadata": {},
     "output_type": "execute_result"
    }
   ],
   "source": [
    "join_data['CSI_ap'].iloc[10]"
   ]
  },
  {
   "cell_type": "code",
   "execution_count": 85,
   "metadata": {},
   "outputs": [
    {
     "data": {
      "text/plain": [
       "379"
      ]
     },
     "execution_count": 85,
     "metadata": {},
     "output_type": "execute_result"
    }
   ],
   "source": [
    "len(join_data['CSI_ap'].iloc[10])"
   ]
  },
  {
   "cell_type": "code",
   "execution_count": 86,
   "metadata": {},
   "outputs": [
    {
     "data": {
      "text/plain": [
       "358567"
      ]
     },
     "execution_count": 86,
     "metadata": {},
     "output_type": "execute_result"
    }
   ],
   "source": [
    "len(join_data['CSI_ap'].iloc[:])"
   ]
  },
  {
   "cell_type": "code",
   "execution_count": null,
   "metadata": {},
   "outputs": [],
   "source": []
  },
  {
   "cell_type": "code",
   "execution_count": null,
   "metadata": {},
   "outputs": [],
   "source": []
  },
  {
   "cell_type": "code",
   "execution_count": null,
   "metadata": {},
   "outputs": [],
   "source": []
  },
  {
   "cell_type": "code",
   "execution_count": 64,
   "metadata": {},
   "outputs": [
    {
     "ename": "TypeError",
     "evalue": "cannot convert the series to <class 'int'>",
     "output_type": "error",
     "traceback": [
      "\u001b[0;31m\u001b[0m",
      "\u001b[0;31mTypeError\u001b[0mTraceback (most recent call last)",
      "\u001b[0;32m<ipython-input-64-11efad239c92>\u001b[0m in \u001b[0;36m<module>\u001b[0;34m\u001b[0m\n\u001b[0;32m----> 1\u001b[0;31m \u001b[0mjoin_data\u001b[0m\u001b[0;34m[\u001b[0m\u001b[0;34m'CSI_ap'\u001b[0m\u001b[0;34m]\u001b[0m \u001b[0;34m=\u001b[0m \u001b[0mint\u001b[0m\u001b[0;34m(\u001b[0m\u001b[0mjoin_data\u001b[0m\u001b[0;34m[\u001b[0m\u001b[0;34m'CSI_ap'\u001b[0m\u001b[0;34m]\u001b[0m\u001b[0;34m)\u001b[0m\u001b[0;34m\u001b[0m\u001b[0;34m\u001b[0m\u001b[0m\n\u001b[0m",
      "\u001b[0;32m/usr/local/lib/python3.6/dist-packages/pandas/core/series.py\u001b[0m in \u001b[0;36mwrapper\u001b[0;34m(self)\u001b[0m\n\u001b[1;32m    127\u001b[0m         \u001b[0;32mif\u001b[0m \u001b[0mlen\u001b[0m\u001b[0;34m(\u001b[0m\u001b[0mself\u001b[0m\u001b[0;34m)\u001b[0m \u001b[0;34m==\u001b[0m \u001b[0;36m1\u001b[0m\u001b[0;34m:\u001b[0m\u001b[0;34m\u001b[0m\u001b[0;34m\u001b[0m\u001b[0m\n\u001b[1;32m    128\u001b[0m             \u001b[0;32mreturn\u001b[0m \u001b[0mconverter\u001b[0m\u001b[0;34m(\u001b[0m\u001b[0mself\u001b[0m\u001b[0;34m.\u001b[0m\u001b[0miloc\u001b[0m\u001b[0;34m[\u001b[0m\u001b[0;36m0\u001b[0m\u001b[0;34m]\u001b[0m\u001b[0;34m)\u001b[0m\u001b[0;34m\u001b[0m\u001b[0;34m\u001b[0m\u001b[0m\n\u001b[0;32m--> 129\u001b[0;31m         \u001b[0;32mraise\u001b[0m \u001b[0mTypeError\u001b[0m\u001b[0;34m(\u001b[0m\u001b[0;34mf\"cannot convert the series to {converter}\"\u001b[0m\u001b[0;34m)\u001b[0m\u001b[0;34m\u001b[0m\u001b[0;34m\u001b[0m\u001b[0m\n\u001b[0m\u001b[1;32m    130\u001b[0m \u001b[0;34m\u001b[0m\u001b[0m\n\u001b[1;32m    131\u001b[0m     \u001b[0mwrapper\u001b[0m\u001b[0;34m.\u001b[0m\u001b[0m__name__\u001b[0m \u001b[0;34m=\u001b[0m \u001b[0;34mf\"__{converter.__name__}__\"\u001b[0m\u001b[0;34m\u001b[0m\u001b[0;34m\u001b[0m\u001b[0m\n",
      "\u001b[0;31mTypeError\u001b[0m: cannot convert the series to <class 'int'>"
     ]
    }
   ],
   "source": [
    "join_data['CSI_ap'] = int(join_data['CSI_ap'])"
   ]
  },
  {
   "cell_type": "code",
   "execution_count": null,
   "metadata": {},
   "outputs": [],
   "source": []
  },
  {
   "cell_type": "code",
   "execution_count": null,
   "metadata": {},
   "outputs": [],
   "source": []
  },
  {
   "cell_type": "code",
   "execution_count": null,
   "metadata": {},
   "outputs": [],
   "source": []
  },
  {
   "cell_type": "code",
   "execution_count": 33,
   "metadata": {},
   "outputs": [
    {
     "data": {
      "text/plain": [
       "358567"
      ]
     },
     "execution_count": 33,
     "metadata": {},
     "output_type": "execute_result"
    }
   ],
   "source": [
    "len(join_data['CSI_ap'])"
   ]
  },
  {
   "cell_type": "code",
   "execution_count": 59,
   "metadata": {},
   "outputs": [
    {
     "data": {
      "text/plain": [
       "numpy.ndarray"
      ]
     },
     "execution_count": 59,
     "metadata": {},
     "output_type": "execute_result"
    }
   ],
   "source": [
    "mp_numpy = np.array(join_data['CSI_mp'])\n",
    "type(ｍｐ_numpy)"
   ]
  },
  {
   "cell_type": "code",
   "execution_count": 58,
   "metadata": {},
   "outputs": [
    {
     "data": {
      "text/plain": [
       "numpy.ndarray"
      ]
     },
     "execution_count": 58,
     "metadata": {},
     "output_type": "execute_result"
    }
   ],
   "source": [
    "ap_numpy = np.array(join_data['CSI_ap'])\n",
    "type(ap_numpy)"
   ]
  },
  {
   "cell_type": "code",
   "execution_count": 60,
   "metadata": {},
   "outputs": [
    {
     "data": {
      "text/plain": [
       "(358567,)"
      ]
     },
     "execution_count": 60,
     "metadata": {},
     "output_type": "execute_result"
    }
   ],
   "source": [
    "mp_numpy.shape"
   ]
  },
  {
   "cell_type": "code",
   "execution_count": 61,
   "metadata": {},
   "outputs": [
    {
     "data": {
      "text/plain": [
       "(358567,)"
      ]
     },
     "execution_count": 61,
     "metadata": {},
     "output_type": "execute_result"
    }
   ],
   "source": [
    "ap_numpy.shape"
   ]
  },
  {
   "cell_type": "code",
   "execution_count": 62,
   "metadata": {
    "scrolled": true
   },
   "outputs": [
    {
     "ename": "TypeError",
     "evalue": "can't multiply sequence by non-int of type 'str'",
     "output_type": "error",
     "traceback": [
      "\u001b[0;31m\u001b[0m",
      "\u001b[0;31mTypeError\u001b[0mTraceback (most recent call last)",
      "\u001b[0;32m<ipython-input-62-dad12ce4d3f1>\u001b[0m in \u001b[0;36m<module>\u001b[0;34m\u001b[0m\n\u001b[0;32m----> 1\u001b[0;31m \u001b[0mH\u001b[0m \u001b[0;34m=\u001b[0m \u001b[0mmp_numpy\u001b[0m \u001b[0;34m*\u001b[0m \u001b[0map_numpy\u001b[0m\u001b[0;34m.\u001b[0m\u001b[0mT\u001b[0m\u001b[0;34m\u001b[0m\u001b[0;34m\u001b[0m\u001b[0m\n\u001b[0m",
      "\u001b[0;31mTypeError\u001b[0m: can't multiply sequence by non-int of type 'str'"
     ]
    }
   ],
   "source": [
    "H = mp_numpy * ap_numpy.T"
   ]
  },
  {
   "cell_type": "code",
   "execution_count": 45,
   "metadata": {},
   "outputs": [
    {
     "data": {
      "text/plain": [
       "method"
      ]
     },
     "execution_count": 45,
     "metadata": {},
     "output_type": "execute_result"
    }
   ],
   "source": [
    "type(mp_numpy)"
   ]
  },
  {
   "cell_type": "code",
   "execution_count": null,
   "metadata": {},
   "outputs": [],
   "source": []
  }
 ],
 "metadata": {
  "kernelspec": {
   "display_name": "Python 3",
   "language": "python",
   "name": "python3"
  },
  "language_info": {
   "codemirror_mode": {
    "name": "ipython",
    "version": 3
   },
   "file_extension": ".py",
   "mimetype": "text/x-python",
   "name": "python",
   "nbconvert_exporter": "python",
   "pygments_lexer": "ipython3",
   "version": "3.6.9"
  }
 },
 "nbformat": 4,
 "nbformat_minor": 2
}
